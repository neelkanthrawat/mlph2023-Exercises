{
  "cells": [
    {
      "cell_type": "markdown",
      "metadata": {
        "id": "view-in-github",
        "colab_type": "text"
      },
      "source": [
        "<a href=\"https://colab.research.google.com/github/neelkanthrawat/mlph2023-Exercises/blob/main/Copy_of_sheet05.ipynb\" target=\"_parent\"><img src=\"https://colab.research.google.com/assets/colab-badge.svg\" alt=\"Open In Colab\"/></a>"
      ]
    },
    {
      "cell_type": "markdown",
      "metadata": {
        "id": "k5L0y31C3IvV"
      },
      "source": [
        "# Sheet 5"
      ]
    },
    {
      "cell_type": "code",
      "execution_count": 1,
      "metadata": {
        "id": "JYVPQFRb3IvY"
      },
      "outputs": [],
      "source": [
        "import numpy as np\n",
        "from matplotlib import pyplot as plt\n",
        "import torch\n",
        "import torch.nn as nn"
      ]
    },
    {
      "cell_type": "markdown",
      "metadata": {
        "id": "pdV4dDsz3Ivb"
      },
      "source": [
        "# 2) Phase classification in $\\phi^4$ theory"
      ]
    },
    {
      "cell_type": "markdown",
      "metadata": {
        "id": "peJCkqiy3Ivb"
      },
      "source": [
        "(a)"
      ]
    },
    {
      "cell_type": "code",
      "execution_count": 2,
      "metadata": {
        "id": "f-Qofc-T3Ivc"
      },
      "outputs": [],
      "source": [
        "train = np.load('/content/lattice_train.npy')#np.load(\"data05/lattice_train.npy\")\n",
        "test = np.load('/content/lattice_test.npy')#np.load(\"data05/lattice_test.npy\")\n",
        "kappa = np.arange(0.24, 0.30, 0.0025)\n",
        "\n",
        "L = 16\n",
        "lattice_shape = (L,L)\n",
        "\n",
        "train, test = torch.tensor(train), torch.tensor(test)\n",
        "symmetric_phase_data, broken_phase_data = train[0,...], train[1,...]"
      ]
    },
    {
      "cell_type": "code",
      "source": [
        "train.shape, test.shape"
      ],
      "metadata": {
        "id": "HmIvkk3Q4IM7",
        "colab": {
          "base_uri": "https://localhost:8080/"
        },
        "outputId": "146e001d-d617-4a8c-e009-6a893a0f1c05"
      },
      "execution_count": 3,
      "outputs": [
        {
          "output_type": "execute_result",
          "data": {
            "text/plain": [
              "(torch.Size([2, 1000, 16, 16]), torch.Size([24, 100, 16, 16]))"
            ]
          },
          "metadata": {},
          "execution_count": 3
        }
      ]
    },
    {
      "cell_type": "code",
      "source": [
        "## let;s consider the first configuration for the broken and unbroken phase\n",
        "train[0,:,:,:].shape, train[1,:,:,:].shape"
      ],
      "metadata": {
        "id": "CzI2F0np4o_4",
        "colab": {
          "base_uri": "https://localhost:8080/"
        },
        "outputId": "90659af1-3e7c-4d78-b298-9c80153bd743"
      },
      "execution_count": 4,
      "outputs": [
        {
          "output_type": "execute_result",
          "data": {
            "text/plain": [
              "(torch.Size([1000, 16, 16]), torch.Size([1000, 16, 16]))"
            ]
          },
          "metadata": {},
          "execution_count": 4
        }
      ]
    },
    {
      "cell_type": "code",
      "source": [
        "test.shape[0]"
      ],
      "metadata": {
        "id": "B8OGPM2n8ZA3",
        "colab": {
          "base_uri": "https://localhost:8080/"
        },
        "outputId": "8557f271-8549-4ec9-940a-22da56737a67"
      },
      "execution_count": 5,
      "outputs": [
        {
          "output_type": "execute_result",
          "data": {
            "text/plain": [
              "24"
            ]
          },
          "metadata": {},
          "execution_count": 5
        }
      ]
    },
    {
      "cell_type": "code",
      "source": [
        "(0.3-0.24)/test.shape[0]"
      ],
      "metadata": {
        "id": "oqcmLxUv8wvv",
        "colab": {
          "base_uri": "https://localhost:8080/"
        },
        "outputId": "b524e31f-9826-4a7f-f90b-d085f2012b9a"
      },
      "execution_count": 6,
      "outputs": [
        {
          "output_type": "execute_result",
          "data": {
            "text/plain": [
              "0.0025"
            ]
          },
          "metadata": {},
          "execution_count": 6
        }
      ]
    },
    {
      "cell_type": "code",
      "source": [
        "0.24+ (24*0.0025)"
      ],
      "metadata": {
        "id": "vHWiCNEf8wjx",
        "colab": {
          "base_uri": "https://localhost:8080/"
        },
        "outputId": "f02d53e2-3c59-4c52-a297-34a807eeb15a"
      },
      "execution_count": 7,
      "outputs": [
        {
          "output_type": "execute_result",
          "data": {
            "text/plain": [
              "0.3"
            ]
          },
          "metadata": {},
          "execution_count": 7
        }
      ]
    },
    {
      "cell_type": "code",
      "source": [
        "# TODO: Visualize lattice sides for different values of kappa\n",
        "plt.suptitle(r\"first spin configuration from train dataset for different $\\kappa$s\")\n",
        "plt.subplot(1,2,1)\n",
        "plt.imshow(train[0,0,:,:])\n",
        "plt.colorbar()\n",
        "plt.title(r'one of the configs for $\\kappa_{1}$')# unbroken phase\n",
        "\n",
        "plt.subplot(1,2,2)\n",
        "plt.imshow(train[1,0,:,:])\n",
        "plt.colorbar()\n",
        "plt.title(r'one of the configs for $\\kappa_{2}$')# broken phase\n",
        "plt.tight_layout()\n",
        "plt.show()"
      ],
      "metadata": {
        "id": "Vf_Djq9T94TJ",
        "colab": {
          "base_uri": "https://localhost:8080/",
          "height": 492
        },
        "outputId": "7ab65bb3-43d3-436d-d1c3-8cc5e0e1174f"
      },
      "execution_count": 8,
      "outputs": [
        {
          "output_type": "display_data",
          "data": {
            "text/plain": [
              "<Figure size 640x480 with 4 Axes>"
            ],
            "image/png": "[encoded data removed]"
          },
          "metadata": {}
        }
      ]
    },
    {
      "cell_type": "code",
      "source": [
        "# #### plotting the test data\n",
        "# num_kappas_test = test.shape[0]\n",
        "# delta_kappa = (0.3 - 0.24) / (num_kappas_test-1)\n",
        "# print(\"delta_kappa:\",delta_kappa)\n",
        "\n",
        "\n",
        "# # let's plot first 5 configurations of different kappas.\n",
        "# #for plots in range(0,1):# for the time being, let;s plot only the first configuration for all different kappas\n",
        "# fig, axes = plt.subplots(nrows=4, ncols=6, figsize=(12, 8))\n",
        "# config_num=1\n",
        "# plt.suptitle(f\"plotting the {config_num+1}'th spin configuration from test dataset for different $\\kappa$s\")\n",
        "# for i in range(0, num_kappas_test):\n",
        "#   data = test[i, config_num, :, :]\n",
        "#   # axes.flatten()[i].imshow(data, cmap='viridis')\n",
        "#   im = axes.flatten()[i].imshow(data, cmap='viridis')\n",
        "#   axes.flatten()[i].set_title(f\"kappa_{i + 1}={np.round(0.24+i*delta_kappa,3)}\",fontsize=8)  # Set subplot title\n",
        "#   plt.colorbar(im, ax=axes.flatten()[i])\n",
        "\n",
        "#   # Adjust layout to prevent clipping of titles\n",
        "#   plt.tight_layout()\n",
        "\n",
        "#     # Show the plot\n",
        "# plt.show()"
      ],
      "metadata": {
        "id": "0rh1YFpo_JsE"
      },
      "execution_count": 9,
      "outputs": []
    },
    {
      "cell_type": "markdown",
      "metadata": {
        "id": "khJppbiO3Ivd"
      },
      "source": [
        "(b)"
      ]
    },
    {
      "cell_type": "code",
      "source": [
        "import torch\n",
        "import torch.nn as nn\n",
        "import torch.nn.functional as F\n",
        "import torch.nn.init as init\n",
        "\n",
        "class CNNModel(nn.Module):\n",
        "    def __init__(self, nf=16):\n",
        "        \"\"\"\n",
        "        Initialize the CNNModel.\n",
        "\n",
        "        Parameters:\n",
        "        - nf (int): Number of filters for the first convolutional layer.\n",
        "        \"\"\"\n",
        "        super(CNNModel, self).__init__()\n",
        "\n",
        "        # Convolutional layers\n",
        "        self.conv1 = nn.Conv2d(1, nf, kernel_size=5, stride=1, padding=1)\n",
        "        # Convolutional layer with 1 input channel, nf output channels, 4x4 kernel, and padding to maintain spatial dimensions.\n",
        "\n",
        "        self.pool = nn.MaxPool2d(kernel_size=2, stride=2)\n",
        "        # Max pooling layer with a 2x2 kernel and stride 2 for downsampling.\n",
        "\n",
        "        # Number of output channels for the second convolutional layer is set to nf for simplicity\n",
        "        nf_out_conv2 = nf\n",
        "        self.conv2 = nn.Conv2d(nf, nf_out_conv2, kernel_size=8, stride=1, padding=1)\n",
        "        # Convolutional layer with nf output channels from conv1, nf_out_conv2 output channels, 4x4 kernel, and padding.\n",
        "\n",
        "\n",
        "        # Store nf as an instance variable\n",
        "        self.nf = nf\n",
        "\n",
        "        ### Fully connected layers\n",
        "        self.fc1 = nn.Linear(3, 128)# we have later changed the numebr of input params for this layer\n",
        "        # Fully connected layer with dynamically calculated input features and 128 output features.\n",
        "\n",
        "        self.fc2 = nn.Linear(128, 128)\n",
        "        # Additional fully connected layer with 128 input features.\n",
        "\n",
        "        self.fc3 = nn.Linear(128, 128)\n",
        "        # Fully connected layer with 64 input features.\n",
        "\n",
        "        self.fc4 = nn.Linear(128, 1)\n",
        "        # Fully connected layer with 1 output feature for binary classification.\n",
        "\n",
        "\n",
        "\n",
        "    def forward(self, x):\n",
        "      x = F.leaky_relu(self.conv1(x))\n",
        "      print(f\"conv1 output size: {x.size()}\")\n",
        "      print(\"_\"*20)\n",
        "      print(f\"conv1 weight norm: {self.conv1.weight.norm().item()}\")\n",
        "      print(f\"conv1 bias norm: {self.conv1.bias.norm().item()}\")\n",
        "\n",
        "      x = self.pool(x)\n",
        "      print(f\"pool output size: {x.size()}\")\n",
        "\n",
        "      x = F.leaky_relu(self.conv2(x))\n",
        "      print(f\"conv2 output size: {x.size()}\")\n",
        "      print(f\"conv2 weight norm: {self.conv2.weight.norm().item()}\")\n",
        "      print(f\"conv2 bias norm: {self.conv2.bias.norm().item()}\")\n",
        "\n",
        "      height, width = x.size()[2], x.size()[3]\n",
        "      x = x.view(x.size(0), -1)\n",
        "      print(f\"flattened output size: {x.size()}\")\n",
        "\n",
        "      self.fc1.in_features = self.nf * height * width\n",
        "      self.fc1 = nn.Linear(self.nf * height * width, 128)\n",
        "\n",
        "      x = F.leaky_relu(self.fc1(x))\n",
        "      print(f\"fc1 output size: {x.size()}\")\n",
        "      print(f\"fc1 weight norm: {self.fc1.weight.norm().item()}\")\n",
        "      print(f\"fc1 bias norm: {self.fc1.bias.norm().item()}\")\n",
        "\n",
        "      x = F.leaky_relu(self.fc2(x))\n",
        "      print(f\"fc2 output size: {x.size()}\")\n",
        "      print(f\"fc2 weight norm: {self.fc2.weight.norm().item()}\")\n",
        "      print(f\"fc2 bias norm: {self.fc2.bias.norm().item()}\")\n",
        "\n",
        "      x = F.leaky_relu(self.fc3(x))\n",
        "      print(f\"fc3 output size: {x.size()}\")\n",
        "      print(f\"fc3 weight norm: {self.fc3.weight.norm().item()}\")\n",
        "      print(f\"fc3 bias norm: {self.fc3.bias.norm().item()}\")\n",
        "\n",
        "      x = torch.sigmoid(self.fc4(x))\n",
        "      print(f\"fc4 output size: {x.size()}\")\n",
        "      print(f\"fc4 weight norm: {self.fc4.weight.norm().item()}\")\n",
        "      print(f\"fc4 bias norm: {self.fc4.bias.norm().item()}\")\n",
        "\n",
        "      return x"
      ],
      "metadata": {
        "id": "iO-90YpEbdFn"
      },
      "execution_count": 71,
      "outputs": []
    },
    {
      "cell_type": "code",
      "source": [
        "import torch.nn.init as init\n",
        "\n",
        "# class CNNModel2(nn.Module):\n",
        "#     def __init__(self, nf=8):\n",
        "#         super(CNNModel2, self).__init__()\n",
        "\n",
        "#         # Convolutional layers\n",
        "#         self.conv1 = nn.Conv2d(1, nf, kernel_size=2, stride=1, padding=1)\n",
        "#         self.bn1 = nn.BatchNorm2d(nf)  # Batch Normalization after conv1\n",
        "#         self.pool = nn.MaxPool2d(kernel_size=2, stride=2)\n",
        "\n",
        "#         nf_out_conv2 = nf\n",
        "#         self.conv2 = nn.Conv2d(nf, nf_out_conv2, kernel_size=2, stride=1, padding=1)\n",
        "#         self.bn2 = nn.BatchNorm2d(nf_out_conv2)  # Batch Normalization after conv2\n",
        "\n",
        "#         # Add two more convolutional layers\n",
        "#         self.conv3 = nn.Conv2d(nf_out_conv2, nf_out_conv2, kernel_size=2, stride=1, padding=1)\n",
        "#         self.bn3 = nn.BatchNorm2d(nf_out_conv2)  # Batch Normalization after conv3\n",
        "\n",
        "#         self.conv4 = nn.Conv2d(nf_out_conv2, nf_out_conv2, kernel_size=2, stride=1, padding=1)\n",
        "#         self.bn4 = nn.BatchNorm2d(nf_out_conv2)  # Batch Normalization after conv4\n",
        "\n",
        "#         self.nf = nf\n",
        "\n",
        "#         # Fully connected layers\n",
        "#         self.fc1 = nn.Linear(3, 128)\n",
        "#         self.bn_fc1 = nn.BatchNorm1d(128)  # Batch Normalization after fc1\n",
        "#         self.fc2 = nn.Linear(128, 1)\n",
        "\n",
        "#         # Weight Initialization\n",
        "#         for layer in [self.conv1, self.conv2, self.conv3, self.conv4, self.fc1, self.fc2]:\n",
        "#             if hasattr(layer, 'weight'):\n",
        "#                 init.xavier_normal_(layer.weight)\n",
        "\n",
        "#     def forward(self, x):\n",
        "#         x = F.leaky_relu(self.bn1(self.conv1(x)))\n",
        "#         print(\"_\"*20)\n",
        "\n",
        "#         x = self.pool(x)\n",
        "\n",
        "#         x = F.leaky_relu(self.bn2(self.conv2(x)))\n",
        "\n",
        "#         # Add two more convolutional layers\n",
        "#         x = F.leaky_relu(self.bn3(self.conv3(x)))\n",
        "#         x = F.leaky_relu(self.bn4(self.conv4(x)))\n",
        "\n",
        "#         height, width = x.size()[2], x.size()[3]\n",
        "#         x = x.view(x.size(0), -1)\n",
        "\n",
        "#         self.fc1.in_features = self.nf * height * width\n",
        "#         self.fc1 = nn.Linear(self.nf * height * width, 128)\n",
        "#         x = F.leaky_relu(self.bn_fc1(self.fc1(x)))\n",
        "\n",
        "#         x = torch.sigmoid(self.fc2(x))\n",
        "\n",
        "#         return x\n",
        "\n",
        "\n",
        "############# somewhat of a better performance\n",
        "# import torch.nn.functional as F\n",
        "# from torch.nn import init\n",
        "# import torch.nn as nn\n",
        "\n",
        "# import torch.nn.functional as F\n",
        "# from torch.nn import init\n",
        "# import torch.nn as nn\n",
        "\n",
        "# class CNNModel2(nn.Module):\n",
        "#     def __init__(self, nf=8):\n",
        "#         super(CNNModel2, self).__init__()\n",
        "\n",
        "#         # Convolutional layers\n",
        "#         self.conv1 = nn.Conv2d(1, nf, kernel_size=6, stride=1, padding=1)\n",
        "#         self.bn1 = nn.BatchNorm2d(nf, momentum=0.1)\n",
        "\n",
        "#         self.pool = nn.MaxPool2d(kernel_size=2, stride=2)\n",
        "\n",
        "#         nf_out_conv2 = nf\n",
        "#         self.conv2 = nn.Conv2d(nf, nf_out_conv2, kernel_size=5, stride=1, padding=1)\n",
        "#         self.bn2 = nn.BatchNorm2d(nf_out_conv2, momentum=0.1)\n",
        "\n",
        "#         # Add two more convolutional layers\n",
        "#         self.conv3 = nn.Conv2d(nf_out_conv2, nf_out_conv2, kernel_size=4, stride=1, padding=1)\n",
        "#         self.bn3 = nn.BatchNorm2d(nf_out_conv2, momentum=0.1)\n",
        "\n",
        "#         self.conv4 = nn.Conv2d(nf_out_conv2, nf_out_conv2, kernel_size=3, stride=1, padding=1)\n",
        "#         self.bn4 = nn.BatchNorm2d(nf_out_conv2, momentum=0.1)\n",
        "\n",
        "#         self.nf = nf\n",
        "\n",
        "#         # Fully connected layers\n",
        "#         self.fc1 = nn.Linear(3, 64)\n",
        "#         self.bn_fc1 = nn.BatchNorm1d(64, momentum=0.1)\n",
        "\n",
        "#         self.fc2 = nn.Linear(64, 1)\n",
        "\n",
        "#         # Weight Initialization\n",
        "#         for layer in [self.conv1, self.conv2, self.conv3, self.conv4, self.fc1, self.fc2]:\n",
        "#             if hasattr(layer, 'weight'):\n",
        "#                 init.xavier_normal_(layer.weight)\n",
        "\n",
        "#     def forward(self, x):\n",
        "#         print(f\"Shape before conv1: {x.shape}\")\n",
        "\n",
        "#         x = F.leaky_relu(self.bn1(self.conv1(x)))\n",
        "#         print(f\"Shape after conv1: {x.shape}\")\n",
        "\n",
        "#         x = self.pool(x)\n",
        "\n",
        "#         x = F.leaky_relu(self.bn2(self.conv2(x)))\n",
        "#         print(f\"Shape after conv2: {x.shape}\")\n",
        "\n",
        "#         # Add two more convolutional layers\n",
        "#         x = F.leaky_relu(self.bn3(self.conv3(x)))\n",
        "#         print(f\"Shape after conv3: {x.shape}\")\n",
        "\n",
        "#         x = F.leaky_relu(self.bn4(self.conv4(x)))\n",
        "#         print(f\"Shape after conv4: {x.shape}\")\n",
        "\n",
        "#         height, width = x.size()[2], x.size()[3]\n",
        "#         x = x.view(x.size(0), -1)\n",
        "\n",
        "#         self.fc1.in_features = self.nf * height * width\n",
        "#         self.fc1 = nn.Linear(self.nf * height * width, 64)\n",
        "#         x = F.leaky_relu(self.bn_fc1(self.fc1(x)))\n",
        "#         print(f\"Shape after fc1: {x.shape}\")\n",
        "\n",
        "#         x = torch.sigmoid(self.fc2(x))\n",
        "#         print(f\"Shape after fc2: {x.shape}\")\n",
        "\n",
        "#         return x\n",
        "\n"
      ],
      "metadata": {
        "id": "j5--gbYn1-aP"
      },
      "execution_count": 94,
      "outputs": []
    },
    {
      "cell_type": "code",
      "source": [
        "import torch.nn.functional as F\n",
        "from torch.nn import init\n",
        "import torch.nn as nn\n",
        "\n",
        "class CNNModel2(nn.Module):\n",
        "    def __init__(self, nf=32):\n",
        "        super(CNNModel2, self).__init__()\n",
        "\n",
        "        # Convolutional layers\n",
        "        self.conv1 = nn.Conv2d(1, nf, kernel_size=6, stride=1, padding=1)\n",
        "        init.constant_(self.conv1.bias, 0.01)\n",
        "        self.bn1 = nn.BatchNorm2d(nf, momentum=0.1)\n",
        "        self.pool1 = nn.MaxPool2d(kernel_size=2, stride=2)\n",
        "\n",
        "        nf_out_conv2 = 2*nf\n",
        "        self.conv2 = nn.Conv2d(nf, nf_out_conv2, kernel_size=6, stride=1, padding=1)\n",
        "        init.constant_(self.conv2.bias, 0.01)\n",
        "        self.bn2 = nn.BatchNorm2d(nf_out_conv2, momentum=0.1)\n",
        "        self.pool2 = nn.MaxPool2d(kernel_size=2, stride=2)\n",
        "\n",
        "        # # Add two more convolutional layers\n",
        "        self.conv3 = nn.Conv2d(nf_out_conv2, nf_out_conv2, kernel_size=2, stride=1, padding=1)\n",
        "        self.bn3 = nn.BatchNorm2d(nf_out_conv2, momentum=0.1)\n",
        "        self.pool3 = nn.MaxPool2d(kernel_size=2, stride=2)\n",
        "\n",
        "        self.conv4 = nn.Conv2d(nf_out_conv2, nf_out_conv2, kernel_size=2, stride=1, padding=1)\n",
        "        self.bn4 = nn.BatchNorm2d(nf_out_conv2, momentum=0.1)\n",
        "        self.pool4 = nn.MaxPool2d(kernel_size=2, stride=2)\n",
        "\n",
        "        self.nf = nf\n",
        "\n",
        "        # Fully connected layers\n",
        "        self.fc1 = nn.Linear(3, 64)\n",
        "        self.bn_fc1 = nn.BatchNorm1d(64, momentum=0.1)\n",
        "\n",
        "        self.fc2 = nn.Linear(64,1)\n",
        "\n",
        "        # Weight Initialization\n",
        "        for layer in [self.conv1, self.conv2, self.fc1, self.fc2, self.conv3, self.conv4, self.fc1, self.fc2]:\n",
        "            if hasattr(layer, 'weight'):\n",
        "                init.xavier_normal_(layer.weight)\n",
        "\n",
        "    def forward(self, x):\n",
        "        # print(f\"Shape before conv1: {x.shape}\")\n",
        "\n",
        "        x = F.leaky_relu(self.bn1(self.conv1(x)))\n",
        "        x = self.pool1(x)\n",
        "        # print(f\"Shape after conv1 and pooling: {x.shape}\")\n",
        "\n",
        "        x = F.leaky_relu(self.bn2(self.conv2(x)))\n",
        "        x = self.pool2(x)\n",
        "        # print(f\"Shape after conv2 and pooling: {x.shape}\")\n",
        "\n",
        "        # # Add two more convolutional layers\n",
        "        x = F.leaky_relu(self.bn3(self.conv3(x)))\n",
        "        x = self.pool3(x)\n",
        "        # print(f\"Shape after conv3 and pooling: {x.shape}\")\n",
        "\n",
        "        x = F.leaky_relu(self.bn4(self.conv4(x)))\n",
        "        x = self.pool4(x)\n",
        "        # print(f\"Shape after conv4 and pooling: {x.shape}\")\n",
        "\n",
        "        height, width = x.size()[2], x.size()[3]\n",
        "        x = x.view(x.size(0), -1)\n",
        "        # print(\"x after flattening::\",x.size())\n",
        "\n",
        "        self.fc1.in_features = 2*self.nf * height * width\n",
        "        self.fc1 = nn.Linear(2*self.nf * height * width, 64)\n",
        "        x = F.leaky_relu(self.bn_fc1(self.fc1(x)))\n",
        "        # print(f\"Shape after fc1: {x.shape}\")\n",
        "\n",
        "        x = torch.sigmoid(self.fc2(x))\n",
        "        # print(f\"Shape after fc2: {x.shape}\")\n",
        "\n",
        "        return x\n"
      ],
      "metadata": {
        "id": "NEAbUF54XbXY"
      },
      "execution_count": 246,
      "outputs": []
    },
    {
      "cell_type": "code",
      "source": [
        "# import torch.nn.functional as F\n",
        "# from torch.nn import init\n",
        "# import torch.nn as nn\n",
        "\n",
        "# class CNNModel2(nn.Module):\n",
        "#     def __init__(self, nf=32, dropout_prob=0.05):\n",
        "#         super(CNNModel2, self).__init__()\n",
        "\n",
        "#         # Convolutional layers\n",
        "#         self.conv1 = nn.Conv2d(1, nf, kernel_size=5, stride=1, padding=1)\n",
        "#         init.constant_(self.conv1.bias, 0.01)\n",
        "#         self.bn1 = nn.BatchNorm2d(nf, momentum=0.1)\n",
        "#         self.dropout1 = nn.Dropout2d(dropout_prob)\n",
        "#         self.pool1 = nn.MaxPool2d(kernel_size=2, stride=2)\n",
        "\n",
        "#         nf_out_conv2 = 2 * nf\n",
        "#         self.conv2 = nn.Conv2d(nf, nf_out_conv2, kernel_size=5, stride=1, padding=1)\n",
        "#         init.constant_(self.conv2.bias, 0.01)\n",
        "#         self.bn2 = nn.BatchNorm2d(nf_out_conv2, momentum=0.1)\n",
        "#         self.dropout2 = nn.Dropout2d(dropout_prob)\n",
        "#         self.pool2 = nn.MaxPool2d(kernel_size=2, stride=2)\n",
        "\n",
        "#         # Add two more convolutional layers\n",
        "#         self.conv3 = nn.Conv2d(nf_out_conv2, nf_out_conv2, kernel_size=2, stride=1, padding=1)\n",
        "#         self.bn3 = nn.BatchNorm2d(nf_out_conv2, momentum=0.1)\n",
        "#         self.dropout3 = nn.Dropout2d(dropout_prob)\n",
        "#         self.pool3 = nn.MaxPool2d(kernel_size=2, stride=2)\n",
        "\n",
        "#         self.conv4 = nn.Conv2d(nf_out_conv2, nf_out_conv2, kernel_size=2, stride=1, padding=1)\n",
        "#         self.bn4 = nn.BatchNorm2d(nf_out_conv2, momentum=0.1)\n",
        "#         self.dropout4 = nn.Dropout2d(dropout_prob)\n",
        "#         self.pool4 = nn.MaxPool2d(kernel_size=2, stride=2)\n",
        "\n",
        "#         self.nf = nf\n",
        "\n",
        "#         # Fully connected layers\n",
        "#         self.fc1 = nn.Linear(2 * nf * 3 * 3, 64)\n",
        "#         self.bn_fc1 = nn.BatchNorm1d(64, momentum=0.1)\n",
        "#         self.dropout_fc1 = nn.Dropout(dropout_prob)\n",
        "\n",
        "#         self.fc2 = nn.Linear(64, 1)\n",
        "\n",
        "#         # Weight Initialization\n",
        "#         for layer in [self.conv1, self.conv2, self.fc1, self.fc2, self.conv3, self.conv4, self.fc1, self.fc2]:\n",
        "#             if hasattr(layer, 'weight'):\n",
        "#                 init.xavier_normal_(layer.weight)\n",
        "\n",
        "#     def forward(self, x):\n",
        "#         # print(f\"Shape before conv1: {x.shape}\")\n",
        "\n",
        "#         x = F.leaky_relu(self.bn1(self.conv1(x)))\n",
        "#         x = self.dropout1(x)\n",
        "#         x = self.pool1(x)\n",
        "#         # print(f\"Shape after conv1, dropout1, and pooling: {x.shape}\")\n",
        "\n",
        "#         x = F.leaky_relu(self.bn2(self.conv2(x)))\n",
        "#         x = self.dropout2(x)\n",
        "#         x = self.pool2(x)\n",
        "#         # print(f\"Shape after conv2, dropout2, and pooling: {x.shape}\")\n",
        "\n",
        "#         # Add two more convolutional layers\n",
        "#         x = F.leaky_relu(self.bn3(self.conv3(x)))\n",
        "#         x = self.dropout3(x)\n",
        "#         x = self.pool3(x)\n",
        "#         # print(f\"Shape after conv3, dropout3, and pooling: {x.shape}\")\n",
        "\n",
        "#         x = F.leaky_relu(self.bn4(self.conv4(x)))\n",
        "#         x = self.dropout4(x)\n",
        "#         x = self.pool4(x)\n",
        "#         # print(f\"Shape after conv4, dropout4, and pooling: {x.shape}\")\n",
        "\n",
        "#         height, width = x.size()[2], x.size()[3]\n",
        "#         x = x.view(x.size(0), -1)\n",
        "#         # print(\"x after flattening::\",x.size())\n",
        "\n",
        "#         self.fc1.in_features = 2 * self.nf * height * width\n",
        "#         self.fc1 = nn.Linear(2 * self.nf * height * width, 64)\n",
        "#         x = F.leaky_relu(self.bn_fc1(self.fc1(x)))\n",
        "#         x = self.dropout_fc1(x)\n",
        "#         # print(f\"Shape after fc1, dropout_fc1: {x.shape}\")\n",
        "\n",
        "#         x = torch.sigmoid(self.fc2(x))\n",
        "#         # print(f\"Shape after fc2: {x.shape}\")\n",
        "\n",
        "#         return x\n"
      ],
      "metadata": {
        "id": "Oh1KcpX7D2yC"
      },
      "execution_count": 242,
      "outputs": []
    },
    {
      "cell_type": "code",
      "source": [
        "# # Instantiate the model\n",
        "# model = CNNModel()\n",
        "\n",
        "# # Print the architecture\n",
        "# print(model)\n",
        "\n",
        "# # Print the number of parameters\n",
        "# total_params = sum(p.numel() for p in model.parameters())\n",
        "# print(f\"Number of parameters in the model: {total_params}\")"
      ],
      "metadata": {
        "id": "sDZkaeLGcwHO"
      },
      "execution_count": 12,
      "outputs": []
    },
    {
      "cell_type": "markdown",
      "metadata": {
        "id": "hkyTX0gY3Ive"
      },
      "source": [
        "(c)"
      ]
    },
    {
      "cell_type": "code",
      "source": [
        "import torch\n",
        "import torch.nn as nn\n",
        "import torch.optim as optim\n",
        "from torch.utils.data import DataLoader, TensorDataset"
      ],
      "metadata": {
        "id": "SlftEHJ5f4cp"
      },
      "execution_count": 189,
      "outputs": []
    },
    {
      "cell_type": "code",
      "source": [
        "import torch.nn.utils as torch_utils"
      ],
      "metadata": {
        "id": "G_r-Pt2xl8aE"
      },
      "execution_count": 190,
      "outputs": []
    },
    {
      "cell_type": "code",
      "source": [
        "# def train_model(model, train_loader, criterion, optimizer, epochs, print_num=10):\n",
        "#     losses = []\n",
        "\n",
        "#     for epoch in range(epochs):\n",
        "#         model.train()\n",
        "#         running_loss = 0.0\n",
        "\n",
        "#         for inputs, labels in train_loader:\n",
        "#             optimizer.zero_grad()\n",
        "\n",
        "#             # Forward pass\n",
        "#             outputs = model(inputs.float())\n",
        "\n",
        "#             # Assuming binary classification, convert labels to float\n",
        "#             labels = labels.float().view(-1, 1)\n",
        "\n",
        "#             # Compute the loss\n",
        "#             loss = criterion(outputs, labels)\n",
        "\n",
        "#             # Backward pass and optimization step\n",
        "#             loss.backward()\n",
        "#             # Print gradients for inspection\n",
        "#             print(\"----in train model function after backward pass gradients of the params:----\")\n",
        "#             for name, param in model.named_parameters():\n",
        "#                 print(f'{name}: {param.grad.norm().item()}')\n",
        "\n",
        "#             # Clip gradients\n",
        "#             torch_utils.clip_grad_norm_(model.parameters(), max_norm=1.0)\n",
        "#             optimizer.step()\n",
        "\n",
        "#             running_loss += loss.item()\n",
        "#             #print(\"running loss is:\",running_loss)\n",
        "\n",
        "#         average_loss = running_loss / len(train_loader)\n",
        "#         losses.append(average_loss)\n",
        "\n",
        "#         if (epoch + 1) % print_num == 0:\n",
        "#             print(f\"Epoch {epoch+1}/{epochs}, Loss: {average_loss}\")\n",
        "\n",
        "#     print(\"Training finished.\")\n",
        "#     return losses\n",
        "\n",
        "\n",
        "#### trainning with scheduler related code included\n",
        "import torch.optim as optim\n",
        "from torch.optim import lr_scheduler\n",
        "\n",
        "def train_model(model, train_loader, criterion, optimizer, scheduler, epochs, print_num=10):\n",
        "    losses = []\n",
        "\n",
        "    for epoch in range(epochs):\n",
        "        model.train()\n",
        "        running_loss = 0.0\n",
        "\n",
        "        for inputs, labels in train_loader:\n",
        "            optimizer.zero_grad()\n",
        "\n",
        "            # Forward pass\n",
        "            outputs = model(inputs.float())\n",
        "\n",
        "            # Assuming binary classification, convert labels to float\n",
        "            labels = labels.float().view(-1, 1)\n",
        "\n",
        "            # Compute the loss\n",
        "            loss = criterion(outputs, labels)\n",
        "\n",
        "            # Backward pass and optimization step\n",
        "            loss.backward()\n",
        "            # Print gradients for inspection\n",
        "            # print(\"----in train model function after backward pass gradients of the params:----\")\n",
        "            # for name, param in model.named_parameters():\n",
        "            #     print(f'{name}: {param.grad.norm().item()}')\n",
        "\n",
        "            # Clip gradients\n",
        "            torch.nn.utils.clip_grad_norm_(model.parameters(), max_norm=1.0)\n",
        "            optimizer.step()\n",
        "\n",
        "            running_loss += loss.item()\n",
        "            #print(\"running loss is:\", running_loss)\n",
        "\n",
        "        average_loss = running_loss / len(train_loader)\n",
        "        losses.append(average_loss)\n",
        "\n",
        "        if scheduler is not None:\n",
        "            # Step in the scheduler to update the learning rate\n",
        "            scheduler.step()\n",
        "\n",
        "        if (epoch + 1) % print_num == 0:\n",
        "            print(f\"Epoch {epoch+1}/{epochs}, Loss: {average_loss}\")\n",
        "\n",
        "    print(\"Training finished.\")\n",
        "    return losses\n",
        "\n"
      ],
      "metadata": {
        "id": "z0y76EfF2tsH"
      },
      "execution_count": 210,
      "outputs": []
    },
    {
      "cell_type": "code",
      "source": [
        "from sklearn.preprocessing import MinMaxScaler"
      ],
      "metadata": {
        "id": "Yjp_NmAXlcl4"
      },
      "execution_count": 16,
      "outputs": []
    },
    {
      "cell_type": "code",
      "source": [
        "# # preparing the training dataloader\n",
        "# import torch\n",
        "# from torch.utils.data import TensorDataset, DataLoader\n",
        "\n",
        "# # Assuming train is your training tensor with shape [2, 1000, 16, 16]\n",
        "# # and each set of lattice sites for a κ value is along the first dimension\n",
        "\n",
        "# # Reshape the training tensor\n",
        "# train_data = train.permute(1, 0, 2, 3).reshape(-1, 16, 16)\n",
        "# print(\"train_data.shape is:\", train_data.shape)\n",
        "\n",
        "# # Generate dummy labels for the dataset\n",
        "# #train_labels = # Generate dummy labels for the dataset\n",
        "# train_labels = torch.cat([torch.zeros(1000, 1), torch.ones(1000, 1)])\n",
        "# #torch.cat([torch.zeros(1000), torch.ones(1000)])\n",
        "\n",
        "# # Add channel dimension\n",
        "# train_data = train_data.unsqueeze(1)\n",
        "# print(\"train_data.shape after adding a channel dimension\")\n",
        "# print(train_data.shape)\n",
        "\n",
        "# # Convert NumPy arrays back to PyTorch tensors\n",
        "# train_data, train_labels = map(torch.tensor, (train_data.numpy(), train_labels.numpy()))\n",
        "# print(\"train_data.shape now is:\")\n",
        "# print(train_data.shape)\n",
        "\n",
        "# # Create DataLoader for the training set\n",
        "# batch_size = 64\n",
        "# train_dataset = TensorDataset(train_data, train_labels)\n",
        "# train_loader = DataLoader(train_dataset, batch_size=batch_size, shuffle=True)\n",
        "\n",
        "\n",
        "import torch\n",
        "from torch.utils.data import TensorDataset, DataLoader\n",
        "\n",
        "# Assuming train is your training tensor with shape [2, 1000, 16, 16]\n",
        "# and each set of lattice sites for a κ value is along the first dimension\n",
        "\n",
        "# Reshape the training tensor\n",
        "train_data = train.permute(1, 0, 2, 3).reshape(-1, 16, 16)\n",
        "print(\"train_data.shape is:\", train_data.shape)\n",
        "\n",
        "# Calculate mean and standard deviation for each 16x16 part\n",
        "mean_per_part = train_data.mean(dim=(1, 2))\n",
        "std_per_part = train_data.std(dim=(1, 2))\n",
        "\n",
        "# Normalize each 16x16 part\n",
        "train_data_normalized = (train_data - mean_per_part[:, None, None]) / std_per_part[:, None, None]\n",
        "\n",
        "# Generate dummy labels for the dataset\n",
        "train_labels = torch.cat([torch.zeros(1000, 1), torch.ones(1000, 1)])\n",
        "\n",
        "# Add channel dimension\n",
        "train_data_normalized = train_data_normalized.unsqueeze(1)\n",
        "print(\"train_data_normalized.shape after adding a channel dimension\")\n",
        "print(train_data_normalized.shape)\n",
        "\n",
        "# Convert NumPy arrays back to PyTorch tensors\n",
        "train_data_normalized, train_labels = map(torch.tensor, (train_data_normalized.numpy(), train_labels.numpy()))\n",
        "print(\"train_data_normalized.shape now is:\")\n",
        "print(train_data_normalized.shape)\n",
        "\n",
        "# Create DataLoader for the training set\n",
        "batch_size = 32\n",
        "train_dataset = TensorDataset(train_data_normalized, train_labels)\n",
        "train_loader = DataLoader(train_dataset, batch_size=batch_size, shuffle=True)\n"
      ],
      "metadata": {
        "colab": {
          "base_uri": "https://localhost:8080/"
        },
        "id": "kWPl4PfzzpCA",
        "outputId": "e8310126-46eb-4626-b852-1486e850ace5"
      },
      "execution_count": 211,
      "outputs": [
        {
          "output_type": "stream",
          "name": "stdout",
          "text": [
            "train_data.shape is: torch.Size([2000, 16, 16])\n",
            "train_data_normalized.shape after adding a channel dimension\n",
            "torch.Size([2000, 1, 16, 16])\n",
            "train_data_normalized.shape now is:\n",
            "torch.Size([2000, 1, 16, 16])\n"
          ]
        }
      ]
    },
    {
      "cell_type": "code",
      "source": [
        "model = CNNModel2()\n",
        "print(model)"
      ],
      "metadata": {
        "colab": {
          "base_uri": "https://localhost:8080/"
        },
        "id": "PxRWS7WhMRsx",
        "outputId": "56e64af2-b5b7-4b31-cadc-bad16402a5b8"
      },
      "execution_count": 212,
      "outputs": [
        {
          "output_type": "stream",
          "name": "stdout",
          "text": [
            "CNNModel2(\n",
            "  (conv1): Conv2d(1, 32, kernel_size=(4, 4), stride=(1, 1), padding=(1, 1))\n",
            "  (bn1): BatchNorm2d(32, eps=1e-05, momentum=0.1, affine=True, track_running_stats=True)\n",
            "  (pool1): MaxPool2d(kernel_size=2, stride=2, padding=0, dilation=1, ceil_mode=False)\n",
            "  (conv2): Conv2d(32, 64, kernel_size=(4, 4), stride=(1, 1), padding=(1, 1))\n",
            "  (bn2): BatchNorm2d(64, eps=1e-05, momentum=0.1, affine=True, track_running_stats=True)\n",
            "  (pool2): MaxPool2d(kernel_size=2, stride=2, padding=0, dilation=1, ceil_mode=False)\n",
            "  (conv3): Conv2d(64, 64, kernel_size=(2, 2), stride=(1, 1), padding=(1, 1))\n",
            "  (bn3): BatchNorm2d(64, eps=1e-05, momentum=0.1, affine=True, track_running_stats=True)\n",
            "  (pool3): MaxPool2d(kernel_size=2, stride=2, padding=0, dilation=1, ceil_mode=False)\n",
            "  (conv4): Conv2d(64, 64, kernel_size=(2, 2), stride=(1, 1), padding=(1, 1))\n",
            "  (bn4): BatchNorm2d(64, eps=1e-05, momentum=0.1, affine=True, track_running_stats=True)\n",
            "  (pool4): MaxPool2d(kernel_size=2, stride=2, padding=0, dilation=1, ceil_mode=False)\n",
            "  (fc1): Linear(in_features=3, out_features=64, bias=True)\n",
            "  (bn_fc1): BatchNorm1d(64, eps=1e-05, momentum=0.1, affine=True, track_running_stats=True)\n",
            "  (fc2): Linear(in_features=64, out_features=1, bias=True)\n",
            ")\n"
          ]
        }
      ]
    },
    {
      "cell_type": "code",
      "source": [
        "# # # Instantiate the model\n",
        "# model = CNNModel2()\n",
        "\n",
        "# # Define BCE loss and optimizer\n",
        "# criterion = nn.BCELoss()\n",
        "# optimizer = optimizer = optim.Adam(model.parameters(), lr=0.001, weight_decay=1e-4)\n",
        "\n",
        "# # Number of training epochs\n",
        "# epochs = 50\n",
        "\n",
        "# # Call the training function\n",
        "# average_loss = train_model(model, train_loader, criterion, optimizer, epochs, print_num=2)\n",
        "# print(f\"Average Training Loss: {average_loss}\")\n",
        "# # plt.yscale('log')\n",
        "# plt.plot(average_loss)\n",
        "# plt.xlabel(\"epoch\")\n",
        "\n",
        "#####\n",
        "\n",
        "# Create the model, optimizer, and scheduler\n",
        "model = CNNModel2()\n",
        "#optimizer = torch.optim.Adam(model.parameters(), lr=0.02,weight_decay=0.001)\n",
        "\n",
        "# Define RMSprop optimizer\n",
        "# Define RMSprop optimizer\n",
        "learning_rate=0.001\n",
        "\n",
        "### best performance so far\n",
        "optimizer = optim.Adam(model.parameters(), lr=0.0185, weight_decay=2*1e-4)#0.018 #0.0152# worked best so far, 0.013\n",
        "### best one so far: 0.018\n",
        "\n",
        "\n",
        "\n",
        "# optimizer=optim.RMSprop(model.parameters(), lr=0.0185, alpha=0.9)\n",
        "\n",
        "# ## optimizer= optim.RMSprop(model.parameters(), lr=0.015, alpha=0.9)\n",
        "#torch.optim.Adadelta(model.parameters(), lr=learning_rate)#optim.RMSprop(model.parameters(), lr=0.001, alpha=0.9)\n",
        "#optimizer = optim.RMSprop(model.parameters(), lr=0.001, alpha=0.9)\n",
        "#optim.Adam(model.parameters(), lr=0.01, weight_decay=1e-4)\n",
        "scheduler = lr_scheduler.StepLR(optimizer, step_size=10, gamma=0.1)# gamma 0.1\n",
        "\n",
        "# # Define BCE loss\n",
        "criterion = nn.BCELoss()\n",
        "epochs=100\n",
        "\n",
        "# Train the model with the scheduler\n",
        "average_losses = train_model(model, train_loader, criterion, optimizer, scheduler, epochs=epochs, print_num=10)\n",
        "#print(f\"Average Training Loss: {average_loss}\")\n",
        "# plt.yscale('log')\n",
        "plt.plot(average_losses)\n",
        "plt.xlabel(\"epoch\")"
      ],
      "metadata": {
        "id": "JWGo2xUCiwqk",
        "colab": {
          "base_uri": "https://localhost:8080/",
          "height": 657
        },
        "outputId": "5ce9c2b0-eef0-45ab-f9d6-2ffee7a2a91a"
      },
      "execution_count": 248,
      "outputs": [
        {
          "output_type": "stream",
          "name": "stdout",
          "text": [
            "Epoch 10/100, Loss: 0.6921236240674579\n",
            "Epoch 20/100, Loss: 0.42814857855675714\n",
            "Epoch 30/100, Loss: 0.29026151460314553\n",
            "Epoch 40/100, Loss: 0.28545191789430285\n",
            "Epoch 50/100, Loss: 0.269199297068611\n",
            "Epoch 60/100, Loss: 0.28129826864552876\n",
            "Epoch 70/100, Loss: 0.2811900159669301\n",
            "Epoch 80/100, Loss: 0.2856842222667876\n",
            "Epoch 90/100, Loss: 0.27905073903855826\n",
            "Epoch 100/100, Loss: 0.28313368416967843\n",
            "Training finished.\n"
          ]
        },
        {
          "output_type": "execute_result",
          "data": {
            "text/plain": [
              "Text(0.5, 0, 'epoch')"
            ]
          },
          "metadata": {},
          "execution_count": 248
        },
        {
          "output_type": "display_data",
          "data": {
            "text/plain": [
              "<Figure size 640x480 with 1 Axes>"
            ],
            "image/png": "[encoded data removed]"
          },
          "metadata": {}
        }
      ]
    },
    {
      "cell_type": "code",
      "source": [
        "plt.yscale(\"log\")\n",
        "plt.plot(average_losses,\"o\")\n",
        "plt.xlabel(\"epoch\")"
      ],
      "metadata": {
        "colab": {
          "base_uri": "https://localhost:8080/",
          "height": 466
        },
        "id": "IElRezE9Px3G",
        "outputId": "d4b28060-d47d-4419-c3fe-b0c537d8ba19"
      },
      "execution_count": 249,
      "outputs": [
        {
          "output_type": "execute_result",
          "data": {
            "text/plain": [
              "Text(0.5, 0, 'epoch')"
            ]
          },
          "metadata": {},
          "execution_count": 249
        },
        {
          "output_type": "display_data",
          "data": {
            "text/plain": [
              "<Figure size 640x480 with 1 Axes>"
            ],
            "image/png": "[encoded data removed]"
          },
          "metadata": {}
        }
      ]
    },
    {
      "cell_type": "code",
      "source": [
        "plt.yscale(\"log\")\n",
        "plt.plot(average_losses,\"o\")\n",
        "plt.xlabel(\"epoch\")"
      ],
      "metadata": {
        "colab": {
          "base_uri": "https://localhost:8080/",
          "height": 466
        },
        "id": "grqt_bFfNcwE",
        "outputId": "5f8ca370-ff16-4054-8bb2-4e636bff4fc9"
      },
      "execution_count": 61,
      "outputs": [
        {
          "output_type": "execute_result",
          "data": {
            "text/plain": [
              "Text(0.5, 0, 'epoch')"
            ]
          },
          "metadata": {},
          "execution_count": 61
        },
        {
          "output_type": "display_data",
          "data": {
            "text/plain": [
              "<Figure size 640x480 with 1 Axes>"
            ],
            "image/png": "[encoded data removed]"
          },
          "metadata": {}
        }
      ]
    },
    {
      "cell_type": "code",
      "source": [
        "plt.yscale(\"log\")\n",
        "plt.plot(average_losses,\"o\")\n",
        "plt.xlabel(\"epoch\")"
      ],
      "metadata": {
        "colab": {
          "base_uri": "https://localhost:8080/",
          "height": 466
        },
        "id": "kNVrq7_mLzCe",
        "outputId": "4f3da649-f1e5-4736-fe35-a0230821fd27"
      },
      "execution_count": 35,
      "outputs": [
        {
          "output_type": "execute_result",
          "data": {
            "text/plain": [
              "Text(0.5, 0, 'epoch')"
            ]
          },
          "metadata": {},
          "execution_count": 35
        },
        {
          "output_type": "display_data",
          "data": {
            "text/plain": [
              "<Figure size 640x480 with 1 Axes>"
            ],
            "image/png": "[encoded data removed]"
          },
          "metadata": {}
        }
      ]
    },
    {
      "cell_type": "code",
      "source": [
        "plt.yscale(\"log\")\n",
        "plt.plot(average_losses,\"o\")\n",
        "plt.xlabel(\"epoch\")"
      ],
      "metadata": {
        "colab": {
          "base_uri": "https://localhost:8080/",
          "height": 466
        },
        "id": "YT7hmZmXsLD2",
        "outputId": "def21b4a-4ef3-4c81-dcb4-69c1921c816a"
      },
      "execution_count": 30,
      "outputs": [
        {
          "output_type": "execute_result",
          "data": {
            "text/plain": [
              "Text(0.5, 0, 'epoch')"
            ]
          },
          "metadata": {},
          "execution_count": 30
        },
        {
          "output_type": "display_data",
          "data": {
            "text/plain": [
              "<Figure size 640x480 with 1 Axes>"
            ],
            "image/png": "[encoded data removed]"
          },
          "metadata": {}
        }
      ]
    },
    {
      "cell_type": "code",
      "execution_count": null,
      "metadata": {
        "id": "GgU9JU6i3Ivf"
      },
      "outputs": [],
      "source": [
        "# TODO: Train CNN"
      ]
    },
    {
      "cell_type": "markdown",
      "metadata": {
        "id": "j-B9XWWQ3Ivf"
      },
      "source": [
        "(d)"
      ]
    },
    {
      "cell_type": "code",
      "execution_count": null,
      "metadata": {
        "id": "aeB_o__g3Ivg"
      },
      "outputs": [],
      "source": [
        "# TODO: Evaluate CNN"
      ]
    },
    {
      "cell_type": "code",
      "execution_count": null,
      "metadata": {
        "scrolled": true,
        "id": "Zv-RiQep3Ivh"
      },
      "outputs": [],
      "source": [
        "# TODO: Plot means and stds"
      ]
    },
    {
      "cell_type": "markdown",
      "metadata": {
        "id": "LsYSIHR93Ivi"
      },
      "source": [
        "# 3) Uncertainties in Amplitude Regression"
      ]
    },
    {
      "cell_type": "code",
      "execution_count": null,
      "metadata": {
        "id": "YdfP9_pQ3Ivi"
      },
      "outputs": [],
      "source": [
        "# download data to folder data04\n",
        "# this might take some time (50MB)\n",
        "# you can also do this manually (download + unpack zip)\n",
        "import os, sys\n",
        "import wget\n",
        "from zipfile import ZipFile\n",
        "from tqdm import tqdm\n",
        "\n",
        "DESTINATION = \"data04\"\n",
        "url = \"https://www.thphys.uni-heidelberg.de/~plehn/pics/\"\n",
        "filename = \"tutorial-2-data.zip\"\n",
        "url = url + filename\n",
        "\n",
        "os.makedirs(DESTINATION, exist_ok=True)\n",
        "os.chdir(DESTINATION)\n",
        "wget.download(url, filename)\n",
        "with ZipFile(filename, \"r\") as zip_ref:\n",
        "    for file in tqdm(iterable=zip_ref.namelist(), total=len(zip_ref.namelist())):\n",
        "        zip_ref.extract(member=file)\n",
        "%ls\n",
        "os.chdir(\"..\")"
      ]
    },
    {
      "cell_type": "code",
      "execution_count": null,
      "metadata": {
        "id": "UdigRVB_3Ivk"
      },
      "outputs": [],
      "source": [
        "# load data\n",
        "trn_dat = np.load(\"data04/tutorial-2-data/trn_dat.npy\")\n",
        "trn_amp = np.load(\"data04/tutorial-2-data/trn_amp.npy\")\n",
        "\n",
        "val_dat = np.load(\"data04/tutorial-2-data/val_dat.npy\")\n",
        "val_amp = np.load(\"data04/tutorial-2-data/val_amp.npy\")\n",
        "\n",
        "tst_dat = np.load(\"data04/tutorial-2-data/tst_dat.npy\")\n",
        "tst_amp = np.load(\"data04/tutorial-2-data/tst_amp.npy\")\n",
        "\n",
        "print(f\"train data shape: {trn_dat.shape}\")\n",
        "print(f\"train amp  shape: {trn_amp.shape}\")\n",
        "print(f\"test  data shape: {tst_dat.shape}\")\n",
        "print(f\"test  amp  shape: {tst_amp.shape}\")\n",
        "print(f\"val   data shape: {val_dat.shape}\")\n",
        "print(f\"val   amp  shape: {val_amp.shape}\")"
      ]
    },
    {
      "cell_type": "markdown",
      "metadata": {
        "id": "rOGOyF1h3Ivl"
      },
      "source": [
        "(a)"
      ]
    },
    {
      "cell_type": "code",
      "execution_count": null,
      "metadata": {
        "id": "obBwechY3Ivm"
      },
      "outputs": [],
      "source": [
        "# TODO: Recycle code from last sheet"
      ]
    },
    {
      "cell_type": "code",
      "execution_count": null,
      "metadata": {
        "id": "ch0myg8V3Ivm"
      },
      "outputs": [],
      "source": [
        "# TODO: Train ensemble of deterministic networks"
      ]
    },
    {
      "cell_type": "code",
      "execution_count": null,
      "metadata": {
        "id": "aPiRNjKD3Ivn"
      },
      "outputs": [],
      "source": [
        "# TODO: Evaluate ensemble -> List of predictions for log A\n",
        "# result: array preds of shape (10, 30000)"
      ]
    },
    {
      "cell_type": "code",
      "execution_count": null,
      "metadata": {
        "id": "RkGcQv1E3Ivn"
      },
      "outputs": [],
      "source": [
        "# uncertainties at event level\n",
        "\n",
        "preds_means = np.mean(np.log(preds), axis=0)\n",
        "preds_stds = np.std(np.log(preds), axis=0)\n",
        "\n",
        "plt.hist(np.log(tst_amp), range=(-20, -8), bins=50, alpha=.5)\n",
        "plt.hist(preds_means, range=(-20, -8), bins=50, alpha=.5)\n",
        "plt.xlabel(r\"$\\log A$\")\n",
        "plt.ylabel(\"bin height\")\n",
        "plt.show()\n",
        "\n",
        "x = range(len(tst_amp))\n",
        "plt.fill_between(x, preds_stds, -preds_stds, color=\"y\", label=r\"predicted $\\sigma_{\\log A}$\")\n",
        "plt.plot(x, preds_means - np.log(tst_amp), \",\", alpha=.5, ms=.1, label=r\"$\\log A_\\mathrm{pred}-\\log A_\\mathrm{true}$\")\n",
        "plt.xlabel(\"# event\")\n",
        "plt.ylim(-1,1)\n",
        "plt.legend()\n",
        "plt.show()\n",
        "\n",
        "# TODO: Interpret results"
      ]
    },
    {
      "cell_type": "code",
      "execution_count": null,
      "metadata": {
        "id": "Ok1fm1If3Ivo"
      },
      "outputs": [],
      "source": [
        "# uncertainties at histogram level\n",
        "\n",
        "hist_test, bins = np.histogram(np.log(tst_amp), range=(-20,-8), bins=50)\n",
        "hist_data = np.array([np.histogram(np.log(preds[i,:]), bins=bins)[0] for i in range(n_models)])\n",
        "hist_means = np.mean(hist_data, axis=0)\n",
        "hist_stds = np.std(hist_data, axis=0)\n",
        "\n",
        "# means\n",
        "dup_last = lambda a: np.append(a, a[-1])\n",
        "plt.step(bins, dup_last(hist_test), label=\"test\")\n",
        "plt.step(bins, dup_last(hist_means), label=\"ensemble\")\n",
        "plt.xlabel(r\"$\\log A$\")\n",
        "plt.ylabel(\"bin height\")\n",
        "plt.legend()\n",
        "plt.show()\n",
        "\n",
        "# standard deviations\n",
        "plt.step(bins, dup_last(np.sqrt(hist_means)), label=\"statistical uncertainty\")\n",
        "plt.step(bins, dup_last(hist_stds), label=\"ensemble uncertainty\")\n",
        "plt.xlabel(r\"$\\log A$\")\n",
        "plt.ylabel(\"bin standard deviation\")\n",
        "plt.legend()\n",
        "plt.show()\n",
        "\n",
        "# means + standard deviations\n",
        "hists = [hist_test, hist_means]\n",
        "hist_errors = [np.sqrt(hist_test), hist_stds]\n",
        "integrals = [np.sum((bins[1:] - bins[:-1])*y) for y in hists]\n",
        "scales = [1 / integral if integral != 0. else 1. for integral in integrals]\n",
        "\n",
        "label = [\"Test\", \"ensemble\"]\n",
        "fig, axs = plt.subplots(2, 1, sharex=True, gridspec_kw={\"height_ratios\": [3, 1], \"hspace\": 0.})\n",
        "for y, y_err, scale, label in zip(hists, hist_errors, scales, label):\n",
        "    axs[0].step(bins, dup_last(y) * scale, label=label, where=\"post\")\n",
        "    axs[0].fill_between(bins, dup_last(y + y_err) * scale,\n",
        "                     dup_last(y - y_err) * scale, alpha=.5, step=\"post\")\n",
        "\n",
        "    ratio = (y * scale) / (hists[0] * scales[0])\n",
        "    ratio_err = np.sqrt( (y_err/y)**2 + (hist_errors[0] / hists[0])**2)\n",
        "    ratio[np.isnan(ratio)] = 1.\n",
        "    ratio_err[np.isnan(ratio)] = 0.\n",
        "\n",
        "    axs[1].step(bins, dup_last(ratio), where=\"post\")\n",
        "    axs[1].fill_between(bins, dup_last(ratio + ratio_err), dup_last(ratio - ratio_err), step=\"post\", alpha=.5)\n",
        "axs[1].set_xlabel(r\"$\\log A$\")\n",
        "axs[0].set_ylabel(\"Normalized\")\n",
        "axs[1].set_ylabel(r\"$\\frac{\\mathrm{Ensemble}}{\\mathrm{Test}}$\")\n",
        "axs[1].set_ylim(.5, 1.5)\n",
        "axs[0].legend()\n",
        "plt.show()\n",
        "\n",
        "# TODO: Interpret results"
      ]
    },
    {
      "cell_type": "markdown",
      "metadata": {
        "id": "SYWR1sNG3Ivo"
      },
      "source": [
        "(d)"
      ]
    },
    {
      "cell_type": "code",
      "execution_count": null,
      "metadata": {
        "id": "SMd_B1Xn3Ivo"
      },
      "outputs": [],
      "source": [
        "# TODO: Fill in expression for KL divergence\n",
        "import math\n",
        "\n",
        "class VBLinear(nn.Module):\n",
        "    # VB = variational bayes\n",
        "    def __init__(self, in_features, out_features, prior_prec=1.0, _map=False, std_init=-5):\n",
        "        super(VBLinear, self).__init__()\n",
        "        self.n_in = in_features\n",
        "        self.n_out = out_features\n",
        "        self.map = _map\n",
        "        self.prior_prec = prior_prec # = 1/sigma_prior**2\n",
        "        self.random = None\n",
        "        self.bias = nn.Parameter(torch.Tensor(out_features))\n",
        "        self.mu_w = nn.Parameter(torch.Tensor(out_features, in_features))\n",
        "        self.logsig2_w = nn.Parameter(torch.Tensor(out_features, in_features)) # log(sigma_network**2)\n",
        "        self.std_init = std_init\n",
        "        self.reset_parameters()\n",
        "\n",
        "    def reset_parameters(self):\n",
        "        stdv = 1. / math.sqrt(self.mu_w.size(1))\n",
        "        self.mu_w.data.normal_(0, stdv)\n",
        "        self.logsig2_w.data.zero_().normal_(self.std_init, 0.001)\n",
        "        self.bias.data.zero_()\n",
        "\n",
        "    def KL(self):\n",
        "        logsig2_w = self.logsig2_w.clamp(-11, 11)\n",
        "        kl = None # KL divergence of variational bayes linear layer\n",
        "        return kl\n",
        "\n",
        "    def forward(self, input):\n",
        "        if self.training:\n",
        "            # local reparameterization trick is more efficient and leads to\n",
        "            # an estimate of the gradient with smaller variance.\n",
        "            # https://arxiv.org/pdf/1506.02557.pdf\n",
        "            mu_out = nn.functional.linear(input, self.mu_w, self.bias)\n",
        "            logsig2_w = self.logsig2_w.clamp(-11, 11)\n",
        "            s2_w = logsig2_w.exp()\n",
        "            var_out = nn.functional.linear(input.pow(2), s2_w) + 1e-8\n",
        "            return mu_out + var_out.sqrt() * torch.randn_like(mu_out)\n",
        "\n",
        "        else:\n",
        "            if self.map: # just return the mean, no sampling\n",
        "                return nn.functional.linear(input, self.mu_w, self.bias)\n",
        "\n",
        "            logsig2_w = self.logsig2_w.clamp(-11, 11)\n",
        "            if self.random is None:\n",
        "                self.random = torch.randn_like(self.logsig2_w)\n",
        "            s2_w = logsig2_w.exp()\n",
        "            weight = self.mu_w + s2_w.sqrt() * self.random\n",
        "            return nn.functional.linear(input, weight, self.bias) + 1e-8"
      ]
    },
    {
      "cell_type": "code",
      "execution_count": null,
      "metadata": {
        "id": "5iMoYnbV3Ivp"
      },
      "outputs": [],
      "source": [
        "# TODO: Create BNN (like deterministic network, but with bayesian layers)\n",
        "\n",
        "class bayesian_amp_net(nn.Module):\n",
        "\n",
        "    def __init__(self, training_size, ipt_dim=20, opt_dim=1, hdn_dim=32, n_layers=2):\n",
        "        pass\n",
        "\n",
        "    def forward(self, x):\n",
        "        pass\n",
        "\n",
        "    def KL(self):\n",
        "        kl = 0\n",
        "        for layer in self.bayesian_layers:\n",
        "            kl += layer.KL()\n",
        "        return kl\n",
        "\n",
        "    def reset_BNN(self):\n",
        "        for layer in self.bayesian_layers:\n",
        "            layer.random = None"
      ]
    },
    {
      "cell_type": "code",
      "execution_count": null,
      "metadata": {
        "id": "2suJQIJk3Ivp"
      },
      "outputs": [],
      "source": [
        "def batch_loss_bayesian(model, x, y):\n",
        "    x, y = x.to(device), y.to(device)\n",
        "    pred = model(x)\n",
        "    loss = loss_fn(pred, y)\n",
        "    kl = model.KL() / trn_dat.shape[0] # correct normalization!\n",
        "    loss += kl\n",
        "    return loss"
      ]
    },
    {
      "cell_type": "code",
      "execution_count": null,
      "metadata": {
        "id": "Cepxkpkc3Ivq"
      },
      "outputs": [],
      "source": [
        "# TODO: Train BNN"
      ]
    },
    {
      "cell_type": "markdown",
      "metadata": {
        "id": "J4YXBP3j3Ivq"
      },
      "source": [
        "(e)"
      ]
    },
    {
      "cell_type": "code",
      "execution_count": null,
      "metadata": {
        "id": "_S3BAUz03Ivr"
      },
      "outputs": [],
      "source": [
        "# TODO: Evaluate BNN"
      ]
    },
    {
      "cell_type": "code",
      "execution_count": null,
      "metadata": {
        "id": "qAc7ZWJ73Ivr"
      },
      "outputs": [],
      "source": [
        "# uncertainties at event level\n",
        "\n",
        "preds_means = np.mean(np.log(preds), axis=0)\n",
        "preds_stds = np.std(np.log(preds), axis=0)\n",
        "\n",
        "plt.hist(np.log(tst_amp), range=(-20, -8), bins=50, alpha=.5)\n",
        "plt.hist(preds_means, range=(-20, -8), bins=50, alpha=.5)\n",
        "plt.xlabel(r\"$\\log A$\")\n",
        "plt.ylabel(\"bin height\")\n",
        "plt.show()\n",
        "\n",
        "x = range(len(tst_amp))\n",
        "plt.fill_between(x, preds_stds, -preds_stds, color=\"y\", label=r\"predicted $\\sigma_{\\log A}$\")\n",
        "plt.plot(x, preds_means - np.log(tst_amp), \",\", alpha=.5, ms=.1, label=r\"$\\log A_\\mathrm{pred}-\\log A_\\mathrm{true}$\")\n",
        "plt.xlabel(\"# event\")\n",
        "plt.ylim(-1,1)\n",
        "plt.legend()\n",
        "plt.show()\n",
        "\n",
        "# TODO: Interpret results"
      ]
    },
    {
      "cell_type": "code",
      "execution_count": null,
      "metadata": {
        "id": "yzR3598O3Ivr"
      },
      "outputs": [],
      "source": [
        "# uncertainties at histogram level\n",
        "\n",
        "hist_test, bins = np.histogram(np.log(tst_amp), range=(-20,-8), bins=50)\n",
        "hist_data = np.array([np.histogram(np.log(preds[i,:]), bins=bins)[0] for i in range(n_models)])\n",
        "hist_means = np.mean(hist_data, axis=0)\n",
        "hist_stds = np.std(hist_data, axis=0)\n",
        "\n",
        "# means\n",
        "dup_last = lambda a: np.append(a, a[-1])\n",
        "plt.step(bins, dup_last(hist_test), label=\"test\")\n",
        "plt.step(bins, dup_last(hist_means), label=\"ensemble\")\n",
        "plt.xlabel(r\"$\\log A$\")\n",
        "plt.ylabel(\"bin height\")\n",
        "plt.legend()\n",
        "plt.show()\n",
        "\n",
        "# standard deviations\n",
        "plt.step(bins, dup_last(np.sqrt(hist_means)), label=\"statistical uncertainty\")\n",
        "plt.step(bins, dup_last(hist_stds), label=\"ensemble uncertainty\")\n",
        "plt.xlabel(r\"$\\log A$\")\n",
        "plt.ylabel(\"bin standard deviation\")\n",
        "plt.legend()\n",
        "plt.show()\n",
        "\n",
        "# means + standard deviations\n",
        "hists = [hist_test, hist_means]\n",
        "hist_errors = [np.sqrt(hist_test), hist_stds]\n",
        "integrals = [np.sum((bins[1:] - bins[:-1])*y) for y in hists]\n",
        "scales = [1 / integral if integral != 0. else 1. for integral in integrals]\n",
        "\n",
        "label = [\"Test\", \"ensemble\"]\n",
        "fig, axs = plt.subplots(2, 1, sharex=True, gridspec_kw={\"height_ratios\": [3, 1], \"hspace\": 0.})\n",
        "for y, y_err, scale, label in zip(hists, hist_errors, scales, label):\n",
        "    axs[0].step(bins, dup_last(y) * scale, label=label, where=\"post\")\n",
        "    axs[0].fill_between(bins, dup_last(y + y_err) * scale,\n",
        "                     dup_last(y - y_err) * scale, alpha=.5, step=\"post\")\n",
        "\n",
        "    ratio = (y * scale) / (hists[0] * scales[0])\n",
        "    ratio_err = np.sqrt( (y_err/y)**2 + (hist_errors[0] / hists[0])**2)\n",
        "    ratio[np.isnan(ratio)] = 1.\n",
        "    ratio_err[np.isnan(ratio)] = 0.\n",
        "\n",
        "    axs[1].step(bins, dup_last(ratio), where=\"post\")\n",
        "    axs[1].fill_between(bins, dup_last(ratio + ratio_err), dup_last(ratio - ratio_err), step=\"post\", alpha=.5)\n",
        "axs[1].set_xlabel(r\"$\\log A$\")\n",
        "axs[0].set_ylabel(\"Normalized\")\n",
        "axs[1].set_ylabel(r\"$\\frac{\\mathrm{Ensemble}}{\\mathrm{Test}}$\")\n",
        "axs[1].set_ylim(.5, 1.5)\n",
        "axs[0].legend()\n",
        "plt.show()\n",
        "\n",
        "# TODO: Interpret results"
      ]
    },
    {
      "cell_type": "code",
      "execution_count": null,
      "metadata": {
        "id": "4tA2uWCg3Ivs"
      },
      "outputs": [],
      "source": []
    }
  ],
  "metadata": {
    "kernelspec": {
      "display_name": "Python 3",
      "language": "python",
      "name": "python3"
    },
    "language_info": {
      "codemirror_mode": {
        "name": "ipython",
        "version": 3
      },
      "file_extension": ".py",
      "mimetype": "text/x-python",
      "name": "python",
      "nbconvert_exporter": "python",
      "pygments_lexer": "ipython3",
      "version": "3.8.10"
    },
    "colab": {
      "provenance": [],
      "include_colab_link": true
    }
  },
  "nbformat": 4,
  "nbformat_minor": 0
}