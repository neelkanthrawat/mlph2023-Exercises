{
  "cells": [
    {
      "cell_type": "markdown",
      "metadata": {
        "id": "view-in-github",
        "colab_type": "text"
      },
      "source": [
        "<a href=\"https://colab.research.google.com/github/neelkanthrawat/mlph2023-Exercises/blob/main/sheet08.ipynb\" target=\"_parent\"><img src=\"https://colab.research.google.com/assets/colab-badge.svg\" alt=\"Open In Colab\"/></a>"
      ]
    },
    {
      "cell_type": "markdown",
      "metadata": {
        "id": "Nd814FhI6wZD"
      },
      "source": [
        "# Sheet 8"
      ],
      "id": "Nd814FhI6wZD"
    },
    {
      "cell_type": "code",
      "execution_count": 1,
      "metadata": {
        "id": "hkOEbevQ6wZH"
      },
      "outputs": [],
      "source": [
        "import os\n",
        "import numpy as np\n",
        "import torch\n",
        "from torch import nn\n",
        "from matplotlib import pyplot as plt"
      ],
      "id": "hkOEbevQ6wZH"
    },
    {
      "cell_type": "markdown",
      "metadata": {
        "id": "Gy3GOtB76wZJ"
      },
      "source": [
        "## 1) Anomaly detection for Autoencoders"
      ],
      "id": "Gy3GOtB76wZJ"
    },
    {
      "cell_type": "code",
      "source": [
        "!pip install wget"
      ],
      "metadata": {
        "colab": {
          "base_uri": "https://localhost:8080/"
        },
        "id": "w2ofarY-7ADs",
        "outputId": "79ecef91-58f9-4508-cbe5-f67862c9d43f"
      },
      "id": "w2ofarY-7ADs",
      "execution_count": 3,
      "outputs": [
        {
          "output_type": "stream",
          "name": "stdout",
          "text": [
            "Collecting wget\n",
            "  Downloading wget-3.2.zip (10 kB)\n",
            "  Preparing metadata (setup.py) ... \u001b[?25l\u001b[?25hdone\n",
            "Building wheels for collected packages: wget\n",
            "  Building wheel for wget (setup.py) ... \u001b[?25l\u001b[?25hdone\n",
            "  Created wheel for wget: filename=wget-3.2-py3-none-any.whl size=9655 sha256=635a6c5da9611f1bdeae9b70f95c96dc91f259dc69914ccd5c173361d5315176\n",
            "  Stored in directory: /root/.cache/pip/wheels/8b/f1/7f/5c94f0a7a505ca1c81cd1d9208ae2064675d97582078e6c769\n",
            "Successfully built wget\n",
            "Installing collected packages: wget\n",
            "Successfully installed wget-3.2\n"
          ]
        }
      ]
    },
    {
      "cell_type": "code",
      "execution_count": 4,
      "metadata": {
        "id": "NxDzWZDB6wZJ",
        "outputId": "3fd0b3ac-9b94-4cb2-e443-34ac7244897b",
        "colab": {
          "base_uri": "https://localhost:8080/"
        }
      },
      "outputs": [
        {
          "output_type": "stream",
          "name": "stderr",
          "text": [
            "100%|██████████| 7/7 [00:01<00:00,  3.57it/s]"
          ]
        },
        {
          "output_type": "stream",
          "name": "stdout",
          "text": [
            "\u001b[0m\u001b[01;34mtoptagging-short\u001b[0m/  toptagging-short.zip\n"
          ]
        },
        {
          "output_type": "stream",
          "name": "stderr",
          "text": [
            "\n"
          ]
        }
      ],
      "source": [
        "# download data to folder data04\n",
        "# this might take some time (50MB)\n",
        "# you can also do this manually (download + unpack zip)\n",
        "import wget\n",
        "from zipfile import ZipFile\n",
        "from tqdm import tqdm\n",
        "\n",
        "DESTINATION = \"data06\"\n",
        "url = \"https://www.thphys.uni-heidelberg.de/~plehn/pics/\"\n",
        "filename = \"toptagging-short.zip\"\n",
        "url = url + filename\n",
        "\n",
        "os.makedirs(DESTINATION, exist_ok=True)\n",
        "os.chdir(DESTINATION)\n",
        "wget.download(url, filename)\n",
        "with ZipFile(filename, \"r\") as zip_ref:\n",
        "    for file in tqdm(iterable=zip_ref.namelist(), total=len(zip_ref.namelist())):\n",
        "        zip_ref.extract(member=file)\n",
        "os.chdir(\"..\")\n",
        "%ls data06"
      ],
      "id": "NxDzWZDB6wZJ"
    },
    {
      "cell_type": "code",
      "execution_count": 5,
      "metadata": {
        "scrolled": true,
        "id": "92_uDrTW6wZL",
        "outputId": "2d84fc2a-6712-4397-ddfc-ea5b165850e1",
        "colab": {
          "base_uri": "https://localhost:8080/"
        }
      },
      "outputs": [
        {
          "output_type": "stream",
          "name": "stdout",
          "text": [
            "train data shape: (30000, 200, 4)\n",
            "train labels shape: (30000,)\n",
            "test data shape: (30000, 200, 4)\n",
            "test labels shape: (30000,)\n",
            "val data shape: (30000, 200, 4)\n",
            "val labels shape: (30000,)\n"
          ]
        }
      ],
      "source": [
        "# load data\n",
        "X_train = np.load( \"data06/toptagging-short/x_train_short.npy\")\n",
        "y_train = np.load( \"data06/toptagging-short/y_train_short.npy\")\n",
        "X_test = np.load( \"data06/toptagging-short/x_test_short.npy\")\n",
        "y_test = np.load( \"data06/toptagging-short/y_test_short.npy\")\n",
        "X_val = np.load( \"data06/toptagging-short/x_val_short.npy\")\n",
        "y_val = np.load( \"data06/toptagging-short/y_val_short.npy\")\n",
        "\n",
        "print(f\"train data shape: {X_train.shape}\")\n",
        "print(f\"train labels shape: {y_train.shape}\")\n",
        "print(f\"test data shape: {X_test.shape}\")\n",
        "print(f\"test labels shape: {y_test.shape}\")\n",
        "print(f\"val data shape: {X_val.shape}\")\n",
        "print(f\"val labels shape: {y_val.shape}\")"
      ],
      "id": "92_uDrTW6wZL"
    },
    {
      "cell_type": "code",
      "execution_count": 6,
      "metadata": {
        "id": "U_byGtYu6wZN"
      },
      "outputs": [],
      "source": [
        "# Some initial settings\n",
        "__n_warning__ = 0.7\n",
        "n_shift_phi, n_shift_eta = 0, 0\n",
        "\n",
        "# Grid settings\n",
        "xpixels = np.arange(-2.6, 2.6, 0.029)\n",
        "ypixels = np.arange(-np.pi, np.pi, 0.035)\n",
        "\n",
        "# Calculate the pseudorapidity of pixel entries\n",
        "def eta (pT, pz):\n",
        "    small = 1e-10\n",
        "    small_pT = (np.abs(pT) < small)\n",
        "    small_pz = (np.abs(pz) < small)\n",
        "    not_small = ~(small_pT | small_pz)\n",
        "    theta = np.arctan(pT[not_small]/pz[not_small])\n",
        "    theta[theta < 0] += np.pi\n",
        "    etas = np.zeros_like(pT)\n",
        "    etas[small_pz] = 0\n",
        "    etas[small_pT] = 1e-10\n",
        "    etas[not_small] = np.log(np.tan(theta/2))\n",
        "    return etas\n",
        "\n",
        "# Calculate the azimuthal angle of pixel entries\n",
        "def phi (px, py):\n",
        "    \"\"\"\n",
        "    phis are returned in rad., np.arctan(0,0)=0 -> zero constituents set to -np.pi\n",
        "    \"\"\"\n",
        "    phis = np.arctan2(py,px)\n",
        "    phis[phis < 0] += 2*np.pi\n",
        "    phis[phis > 2*np.pi] -= 2*np.pi\n",
        "    phis = phis - np.pi\n",
        "    return phis\n",
        "\n",
        "# function to calculate masses\n",
        "def mass (E,px,py,pz):\n",
        "    mass = np.sqrt(np.maximum(0.,E**2-px**2-py**2-pz**2))\n",
        "    return mass\n",
        "\n",
        "# function to return the image momenta for centroid and principal axis\n",
        "def img_mom (x, y, weights, x_power, y_power):\n",
        "    return ((x**x_power)*(y**y_power)*weights).sum()\n",
        "\n",
        "# returns the jet image\n",
        "def orig_image (etas, phis, es):\n",
        "    \"\"\"\n",
        "    Gives the value on grid with minimal distance,\n",
        "    eg. for xpixel = (0,1,2,3,..) eta=1.3 -> xpixel=1, eta=1.6 ->xpixel=2\n",
        "    \"\"\"\n",
        "    z = np.zeros((etas.shape[0],len(xpixels),len(ypixels)))\n",
        "    in_grid = ~((etas < xpixels[0]) | (etas > xpixels[-1]) | (phis < ypixels[0]) | (phis > ypixels[-1]))\n",
        "    xcoords = np.argmin(np.abs(etas[:,None,:] - xpixels[None,:,None]),axis=1)\n",
        "    ycoords = np.argmin(np.abs(phis[:,None,:] - ypixels[None,:,None]),axis=1)\n",
        "    ncoords = np.repeat(np.arange(etas.shape[0])[:,None],etas.shape[1],axis=1)\n",
        "    z[ncoords[in_grid],ycoords[in_grid],xcoords[in_grid]] = es[in_grid]\n",
        "    return z\n",
        "\n",
        "# preprocess the jet\n",
        "def preprocessing( x ,y, weights, rotate=True, flip=True ):\n",
        "    \"\"\"\n",
        "    (x,y) are the coordinates and weights the corresponding values, shifts\n",
        "    centroid to origin, rotates image, so that principal axis is vertical,\n",
        "    flips image, so that most weights lay in (x<0, y>0)-plane.\n",
        "    Method for calculating principal axis (similar to tensor of inertia):\n",
        "    https://en.wikipedia.org/wiki/Image_moment\n",
        "    here: y=phi, phi has modulo 2*np.pi but it's not been taken care of hear,\n",
        "    so possible issues with calculating the centroid\n",
        "    -> pre-shifting of events outside of this function solves the problem\n",
        "    for iamge-data with Delta_phi < 2*np.pi\n",
        "    \"\"\"\n",
        "\n",
        "    # Shift\n",
        "    x_centroid = img_mom(x, y, weights, 1, 0) / weights.sum()\n",
        "    y_centroid = img_mom(x, y, weights, 0, 1)/ weights.sum()\n",
        "    x = x - x_centroid\n",
        "    y = y - y_centroid\n",
        "\n",
        "    # Check if shifting worked, there can be problems with modulo variables like phi (y)\n",
        "    # x and y are sorted after highest weight, 0-comp. gives hottest event\n",
        "    # for Jet-like Images Centroid should be close to hottest constituen (pT-sorted arrays)\n",
        "    global n_shift_phi\n",
        "    global n_shift_eta\n",
        "    if np.abs(x[0]) > __n_warning__:\n",
        "        n_shift_eta += 1\n",
        "    if np.abs(y[0]) > __n_warning__:\n",
        "        n_shift_phi += 1\n",
        "\n",
        "    if rotate:\n",
        "        #Ccovariant matrix, eigenvectors corr. to principal axis\n",
        "        u11 = img_mom(x, y, weights, 1, 1) / weights.sum()\n",
        "        u20 = img_mom(x, y, weights, 2, 0) / weights.sum()\n",
        "        u02 = img_mom(x, y, weights, 0, 2) / weights.sum()\n",
        "        cov = np.array([[u20, u11], [u11, u02]])\n",
        "\n",
        "        # Eigenvalues and eigenvectors of covariant matrix\n",
        "        evals, evecs = np.linalg.eig(cov)\n",
        "\n",
        "        # Sorts the eigenvalues, v1, [::-1] turns array around,\n",
        "        sort_indices = np.argsort(evals)[::-1]\n",
        "        e_1 = evecs[:, sort_indices[0]]  # Eigenvector with largest eigenvalue\n",
        "        e_2 = evecs[:, sort_indices[1]]\n",
        "\n",
        "        # Theta to x_asix, arctan2 gives correct angle\n",
        "        theta = np.arctan2(e_1[0], e_1[1])\n",
        "\n",
        "        # Rotation, so that princple axis is vertical\n",
        "        # anti-clockwise rotation matrix\n",
        "        rotation = np.matrix([[np.cos(theta), -np.sin(theta)], [np.sin(theta), np.cos(theta)]])\n",
        "        transformed_mat = rotation * np.stack([x,y])\n",
        "        x_rot, y_rot = transformed_mat.A\n",
        "    else:\n",
        "        x_rot, y_rot = x, y\n",
        "\n",
        "    # Flipping\n",
        "    n_flips = 0\n",
        "    if flip:\n",
        "        if weights[x_rot<0.].sum() < weights[x_rot>0.].sum():\n",
        "            x_rot = -x_rot\n",
        "            n_flips  += 1\n",
        "        if weights[y_rot<0.].sum() > weights[y_rot>0.].sum():\n",
        "            y_rot = -y_rot\n",
        "            n_flips += 1\n",
        "\n",
        "    return x_rot, y_rot\n",
        "\n",
        "\n",
        "# function to convert the jet to an image\n",
        "def constit_to_img( jets, n_constit, norm, rotate, flip ):\n",
        "\n",
        "    print( \"Crop constituents\" )\n",
        "    jets = jets[:,0:n_constit,:]\n",
        "\n",
        "    print( \"Calculating pT\" )\n",
        "    E     = jets[:,:,0]\n",
        "    pxs   = jets[:,:,1]\n",
        "    pys   = jets[:,:,2]\n",
        "    pzs   = jets[:,:,3]\n",
        "    pT    = np.sqrt(pxs**2+pys**2)\n",
        "\n",
        "    print( \"Calculating eta\" )\n",
        "    etas  = eta(pT,pzs)\n",
        "\n",
        "    print( \"Calculating phi\" )\n",
        "    phis  = phi(pxs,pys)\n",
        "\n",
        "    print( \"Calculating the mass\" )\n",
        "    E_tot = E.sum(axis=1)\n",
        "    px_tot = pxs.sum(axis=1)\n",
        "    py_tot = pys.sum(axis=1)\n",
        "    pz_tot = pzs.sum(axis=1)\n",
        "    j_mass = mass(E_tot, px_tot, py_tot, pz_tot)\n",
        "\n",
        "    print( \"Pre-shifting the phis\" )\n",
        "    phis = (phis.T - phis[:,0]).T\n",
        "    phis[phis < -np.pi] += 2*np.pi\n",
        "    phis[phis > np.pi] -= 2*np.pi\n",
        "\n",
        "    print( \"Using pT as weight\" )\n",
        "    weights = pT\n",
        "\n",
        "    print( \"Preprocessing\" )\n",
        "\n",
        "    for i in range( np.shape(etas)[0] ):\n",
        "        etas[i,:], phis[i,:] = preprocessing( etas[i,:], phis[i,:], weights[i,:], rotate, flip )\n",
        "\n",
        "    print( \"Creating images\" )\n",
        "    z_ori = orig_image(etas, phis, weights)\n",
        "\n",
        "    #return z_ori\n",
        "\n",
        "    print( \"Cropping and normalising\" )\n",
        "    n_crop = 40\n",
        "    z_new = np.zeros( (z_ori.shape[0],n_crop, n_crop) )\n",
        "    for i in range(z_ori.shape[0]):\n",
        "        Npix = z_ori[i,:,:].shape\n",
        "        z_new[i,:,:] = z_ori[i, int(Npix[0]/2-n_crop/2) : int(Npix[0]/2+n_crop/2), int(Npix[1]/2-n_crop/2) : int(Npix[1]/2+n_crop/2) ]\n",
        "        if norm:\n",
        "            z_sum = z_new[i,:,:].sum()\n",
        "            if z_sum != 0.:\n",
        "                z_new[i,:,:] = z_new[i,:,:]/z_sum\n",
        "\n",
        "    print( \"Reshaping\" )\n",
        "    z_out = z_new.reshape( (z_new.shape[0],-1) ).reshape(-1, 1, 40,40)\n",
        "\n",
        "    return z_out"
      ],
      "id": "U_byGtYu6wZN"
    },
    {
      "cell_type": "code",
      "execution_count": 7,
      "metadata": {
        "id": "54wxs5W96wZO",
        "colab": {
          "base_uri": "https://localhost:8080/"
        },
        "outputId": "dcc69798-aa17-43cd-cf03-3ea53fe5ea8d"
      },
      "outputs": [
        {
          "output_type": "stream",
          "name": "stdout",
          "text": [
            "Crop constituents\n",
            "Calculating pT\n",
            "Calculating eta\n",
            "Calculating phi\n",
            "Calculating the mass\n",
            "Pre-shifting the phis\n",
            "Using pT as weight\n",
            "Preprocessing\n",
            "Creating images\n",
            "Cropping and normalising\n",
            "Reshaping\n",
            "Crop constituents\n",
            "Calculating pT\n",
            "Calculating eta\n",
            "Calculating phi\n",
            "Calculating the mass\n",
            "Pre-shifting the phis\n",
            "Using pT as weight\n",
            "Preprocessing\n",
            "Creating images\n",
            "Cropping and normalising\n",
            "Reshaping\n",
            "Crop constituents\n",
            "Calculating pT\n",
            "Calculating eta\n",
            "Calculating phi\n",
            "Calculating the mass\n",
            "Pre-shifting the phis\n",
            "Using pT as weight\n",
            "Preprocessing\n",
            "Creating images\n",
            "Cropping and normalising\n",
            "Reshaping\n"
          ]
        }
      ],
      "source": [
        "z_train = constit_to_img( X_train, 50, True, True, True )\n",
        "z_val = constit_to_img( X_val, 50, True, True, True )\n",
        "z_test = constit_to_img( X_test, 50, True, True, True )"
      ],
      "id": "54wxs5W96wZO"
    },
    {
      "cell_type": "markdown",
      "source": [
        "### Getting familiar with the data!"
      ],
      "metadata": {
        "id": "hjOJCOKd7ghD"
      },
      "id": "hjOJCOKd7ghD"
    },
    {
      "cell_type": "code",
      "source": [
        "print(z_train.shape)"
      ],
      "metadata": {
        "colab": {
          "base_uri": "https://localhost:8080/"
        },
        "id": "ZYZFE2r77o4m",
        "outputId": "3198a5b0-176c-4034-d3a5-2146a3e2bac9"
      },
      "id": "ZYZFE2r77o4m",
      "execution_count": 30,
      "outputs": [
        {
          "output_type": "stream",
          "name": "stdout",
          "text": [
            "(30000, 1, 40, 40)\n"
          ]
        }
      ]
    },
    {
      "cell_type": "code",
      "source": [
        "sig = z_train[ np.where(y_train==1) ]\n",
        "bkg = z_train[ np.where(y_train==0) ]"
      ],
      "metadata": {
        "id": "lOR_1AZU7mK7"
      },
      "id": "lOR_1AZU7mK7",
      "execution_count": 48,
      "outputs": []
    },
    {
      "cell_type": "code",
      "source": [
        "print(sig.shape); print(bkg.shape)"
      ],
      "metadata": {
        "colab": {
          "base_uri": "https://localhost:8080/"
        },
        "id": "X-EMkmqd8LMv",
        "outputId": "6801005d-cf61-4278-b741-18d49c272e80"
      },
      "id": "X-EMkmqd8LMv",
      "execution_count": 49,
      "outputs": [
        {
          "output_type": "stream",
          "name": "stdout",
          "text": [
            "(15040, 1, 40, 40)\n",
            "(14960, 1, 40, 40)\n"
          ]
        }
      ]
    },
    {
      "cell_type": "code",
      "source": [
        "### plotting signal and background (signal is top jet and background is QCD jet)\n",
        "\n",
        "fig, axs = plt.subplots( 1, 2, figsize=(7,4) )\n",
        "\n",
        "# plotting one such data\n",
        "axs[0].imshow( sig[2,0,...], cmap=\"gist_heat_r\" )\n",
        "axs[0].set_xlabel( \"$\\eta$\" )\n",
        "axs[0].set_ylabel( \"$\\phi$\" )\n",
        "axs[0].set_title(\"top jet\")\n",
        "\n",
        "axs[1].imshow( bkg[2,0,...], cmap=\"gist_heat_r\" )\n",
        "axs[1].set_xlabel( \"$\\eta$\" )\n",
        "axs[1].set_ylabel( \"$\\phi$\")\n",
        "axs[1].set_title(\"QCD jet\")\n",
        "\n",
        "fig.tight_layout()\n",
        "\n",
        "fig.show()"
      ],
      "metadata": {
        "colab": {
          "base_uri": "https://localhost:8080/",
          "height": 380
        },
        "id": "Wc4_xCyt7t7L",
        "outputId": "15b6ab73-873e-4ad6-d20c-7b34bf77e6f6"
      },
      "id": "Wc4_xCyt7t7L",
      "execution_count": 50,
      "outputs": [
        {
          "output_type": "display_data",
          "data": {
            "text/plain": [
              "<Figure size 700x400 with 2 Axes>"
            ],
            "image/png": "[encoded data removed]"
          },
          "metadata": {}
        }
      ]
    },
    {
      "cell_type": "code",
      "source": [
        "fig, axs = plt.subplots( 1, 2, figsize=(7,6) )\n",
        "\n",
        "img_sig =axs[0].imshow( sig.mean(0)[0,...], cmap=\"gist_heat_r\" )\n",
        "axs[0].set_xlabel( \"$\\eta$\" )\n",
        "axs[0].set_ylabel( \"$\\phi$\" )\n",
        "axs[0].set_title(\"Average of all top jets\")\n",
        "cbar_sig = fig.colorbar(img_sig, ax=axs[0])\n",
        "\n",
        "img_bkg = axs[1].imshow( bkg.mean(0)[0,...], cmap=\"gist_heat_r\" )\n",
        "axs[1].set_xlabel( \"$\\eta$\" )\n",
        "axs[1].set_ylabel( \"$\\phi$\")\n",
        "axs[1].set_title(\"Average of all QCD jets\")\n",
        "cbar_bkg = fig.colorbar(img_bkg, ax=axs[1])\n",
        "\n",
        "fig.tight_layout()\n",
        "\n",
        "fig.show()"
      ],
      "metadata": {
        "colab": {
          "base_uri": "https://localhost:8080/",
          "height": 607
        },
        "id": "Mj3vyEon7l70",
        "outputId": "1ae61ad9-b6e2-4b51-a445-73581e1cf4d6"
      },
      "id": "Mj3vyEon7l70",
      "execution_count": 60,
      "outputs": [
        {
          "output_type": "display_data",
          "data": {
            "text/plain": [
              "<Figure size 700x600 with 4 Axes>"
            ],
            "image/png": "[encoded data removed]"
          },
          "metadata": {}
        }
      ]
    },
    {
      "cell_type": "markdown",
      "source": [
        "### the following code is not imp"
      ],
      "metadata": {
        "id": "m9ngjZFAA7cY"
      },
      "id": "m9ngjZFAA7cY"
    },
    {
      "cell_type": "code",
      "source": [
        "'''\n",
        "# import numpy as np\n",
        "\n",
        "# # Create a 4D array with shape (4, 1, 2, 2)\n",
        "# signal = np.array([\n",
        "#   [\n",
        "#     [\n",
        "#       [1, 2],\n",
        "#       [3, 4]\n",
        "#     ]\n",
        "#   ],\n",
        "\n",
        "#   [\n",
        "#     [\n",
        "#       [5, 6],\n",
        "#       [7, 8]\n",
        "#     ]\n",
        "#   ],\n",
        "\n",
        "#   [\n",
        "#     [\n",
        "#       [9, 10],\n",
        "#       [11, 12]\n",
        "#     ]\n",
        "#   ],\n",
        "\n",
        "#   [\n",
        "#     [\n",
        "#       [13, 14],\n",
        "#       [15, 16]\n",
        "#     ]\n",
        "#   ]\n",
        "# ])\n",
        "\n",
        "# # Calculate the mean along the first axis (axis with index 0)\n",
        "# mean_along_first_axis = signal.mean(0)\n",
        "\n",
        "# # Select the first element along the first axis and all elements along the remaining axes\n",
        "# result = mean_along_first_axis[0, ...]\n",
        "\n",
        "# print(\"Original array:\")\n",
        "# print(signal)\n",
        "# print(\"\\nMean along the first axis:\")\n",
        "# print(mean_along_first_axis)\n",
        "# print(\"\\nResult after indexing:\")\n",
        "# print(result)\n",
        "# print(\"shape of the result is:\",result.shape)\n",
        "'''"
      ],
      "metadata": {
        "id": "vAih19gz7Vpd"
      },
      "id": "vAih19gz7Vpd",
      "execution_count": 47,
      "outputs": []
    },
    {
      "cell_type": "markdown",
      "source": [
        "### following cells are important"
      ],
      "metadata": {
        "id": "pcm7il1JBDfz"
      },
      "id": "pcm7il1JBDfz"
    },
    {
      "cell_type": "markdown",
      "source": [
        "### Creating the dataloaders"
      ],
      "metadata": {
        "id": "M1mYI1u6BoOB"
      },
      "id": "M1mYI1u6BoOB"
    },
    {
      "cell_type": "code",
      "source": [
        "device = \"cuda\" if torch.cuda.is_available() else \"cpu\"\n",
        "print(f\"Using {device} device\")"
      ],
      "metadata": {
        "colab": {
          "base_uri": "https://localhost:8080/"
        },
        "id": "3cP-wgbkBsJz",
        "outputId": "97e7a1d3-190c-42c9-8553-612d6feb1c18"
      },
      "id": "3cP-wgbkBsJz",
      "execution_count": 54,
      "outputs": [
        {
          "output_type": "stream",
          "name": "stdout",
          "text": [
            "Using cpu device\n"
          ]
        }
      ]
    },
    {
      "cell_type": "code",
      "source": [
        "class data_for_tagging(torch.utils.data.Dataset):\n",
        "  def __init__( self, imgs, labels ):\n",
        "        self.imgs = imgs\n",
        "        self.labels = labels\n",
        "\n",
        "  def __len__(self):\n",
        "      return len(self.labels)\n",
        "\n",
        "  def __getitem__(self, idx):\n",
        "      return self.imgs[idx], self.labels[idx]"
      ],
      "metadata": {
        "id": "PTCUoHCdBc0h"
      },
      "id": "PTCUoHCdBc0h",
      "execution_count": 55,
      "outputs": []
    },
    {
      "cell_type": "code",
      "source": [
        "z_train_torch = torch.Tensor(z_train).float()\n",
        "z_test_torch = torch.Tensor(z_test).float()\n",
        "z_val_torch = torch.Tensor(z_val).float()\n",
        "\n",
        "y_train_torch = torch.Tensor(y_train).unsqueeze(-1)\n",
        "y_test_torch = torch.Tensor(y_test).unsqueeze(-1)\n",
        "y_val_torch = torch.Tensor(y_val).unsqueeze(-1)\n",
        "\n",
        "train_dataset = data_for_tagging(z_train_torch, y_train_torch.float())\n",
        "test_dataset = data_for_tagging(z_test_torch, y_test_torch.float())\n",
        "val_dataset = data_for_tagging(z_val_torch, y_val_torch.float())\n",
        "\n",
        "trn_dataloader = torch.utils.data.DataLoader( train_dataset, batch_size=64, shuffle=True )\n",
        "tst_dataloader = torch.utils.data.DataLoader( test_dataset, batch_size=64, shuffle=False )\n",
        "val_dataloader = torch.utils.data.DataLoader( val_dataset, batch_size=64, shuffle=False )"
      ],
      "metadata": {
        "id": "ptbpsXXEBcng"
      },
      "id": "ptbpsXXEBcng",
      "execution_count": 56,
      "outputs": []
    },
    {
      "cell_type": "code",
      "source": [
        "z_train_torch.shape"
      ],
      "metadata": {
        "colab": {
          "base_uri": "https://localhost:8080/"
        },
        "id": "FwyNEHsKFYH5",
        "outputId": "aa31c3a5-a0c3-4289-c128-2f3291710285"
      },
      "id": "FwyNEHsKFYH5",
      "execution_count": 61,
      "outputs": [
        {
          "output_type": "execute_result",
          "data": {
            "text/plain": [
              "torch.Size([30000, 1, 40, 40])"
            ]
          },
          "metadata": {},
          "execution_count": 61
        }
      ]
    },
    {
      "cell_type": "markdown",
      "metadata": {
        "id": "KW0Q7NyH6wZP"
      },
      "source": [
        "(a)"
      ],
      "id": "KW0Q7NyH6wZP"
    },
    {
      "cell_type": "code",
      "execution_count": 62,
      "metadata": {
        "id": "qq4t3owe6wZQ"
      },
      "outputs": [],
      "source": [
        "# TODO: Construct autoencoder with MLPs\n",
        "import torch.nn as nn\n",
        "\n",
        "class AutoencoderMLP(nn.Module):\n",
        "    def __init__(self, input_size, bottleneck_size, dropout_rate=0.2):\n",
        "        super(AutoencoderMLP, self).__init__()\n",
        "\n",
        "        # Encoder\n",
        "        self.encoder = nn.Sequential(\n",
        "            nn.Linear(input_size, 128),\n",
        "            nn.ReLU(),\n",
        "            nn.Dropout(dropout_rate),  # Dropout for regularization\n",
        "            nn.Linear(128, bottleneck_size),\n",
        "            nn.ReLU()\n",
        "        )\n",
        "\n",
        "        # Decoder\n",
        "        self.decoder = nn.Sequential(\n",
        "            nn.Linear(bottleneck_size, 128),\n",
        "            nn.ReLU(),\n",
        "            nn.Dropout(dropout_rate),  # Dropout for regularization\n",
        "            nn.Linear(128, input_size),\n",
        "        )\n",
        "\n",
        "    def forward(self, x):\n",
        "        encoded = self.encoder(x)\n",
        "        decoded = self.decoder(encoded)\n",
        "        return decoded\n"
      ],
      "id": "qq4t3owe6wZQ"
    },
    {
      "cell_type": "markdown",
      "metadata": {
        "id": "5GcdUlPn6wZQ"
      },
      "source": [
        "(b)"
      ],
      "id": "5GcdUlPn6wZQ"
    },
    {
      "cell_type": "code",
      "execution_count": null,
      "metadata": {
        "id": "fZNYvu_86wZR"
      },
      "outputs": [],
      "source": [
        "# TODO: Train autoencoder on QCD jets\n",
        "# Choose the bottleneck dimension between 5 and 20"
      ],
      "id": "fZNYvu_86wZR"
    },
    {
      "cell_type": "markdown",
      "metadata": {
        "id": "tPFZR_Sx6wZS"
      },
      "source": [
        "(c)"
      ],
      "id": "tPFZR_Sx6wZS"
    },
    {
      "cell_type": "code",
      "execution_count": null,
      "metadata": {
        "id": "COm1GltT6wZT"
      },
      "outputs": [],
      "source": [
        "# TODO: Visualize original vs reconstructed QCD and top jets"
      ],
      "id": "COm1GltT6wZT"
    },
    {
      "cell_type": "markdown",
      "metadata": {
        "id": "6rYe_znR6wZT"
      },
      "source": [
        "(d)"
      ],
      "id": "6rYe_znR6wZT"
    },
    {
      "cell_type": "code",
      "execution_count": null,
      "metadata": {
        "id": "n3O4xQ1a6wZU"
      },
      "outputs": [],
      "source": [
        "# TODO: Visualize pixel-wise MSE, plot ROC"
      ],
      "id": "n3O4xQ1a6wZU"
    },
    {
      "cell_type": "markdown",
      "metadata": {
        "id": "nXj0qY7T6wZU"
      },
      "source": [
        "(e)"
      ],
      "id": "nXj0qY7T6wZU"
    },
    {
      "cell_type": "code",
      "execution_count": null,
      "metadata": {
        "id": "bawsWjcH6wZU"
      },
      "outputs": [],
      "source": [
        "# TODO: Repeat everything for CNN"
      ],
      "id": "bawsWjcH6wZU"
    },
    {
      "cell_type": "markdown",
      "metadata": {
        "id": "GwTo_W4h6wZV"
      },
      "source": [
        "(f)"
      ],
      "id": "GwTo_W4h6wZV"
    },
    {
      "cell_type": "code",
      "execution_count": null,
      "metadata": {
        "id": "2ZPPg_9c6wZV"
      },
      "outputs": [],
      "source": [
        "# TODO: Repeat everything for autoencoder trained on top jets\n",
        "# You can either use a MLP or a CNN"
      ],
      "id": "2ZPPg_9c6wZV"
    }
  ],
  "metadata": {
    "kernelspec": {
      "display_name": "Python 3",
      "language": "python",
      "name": "python3"
    },
    "language_info": {
      "codemirror_mode": {
        "name": "ipython",
        "version": 3
      },
      "file_extension": ".py",
      "mimetype": "text/x-python",
      "name": "python",
      "nbconvert_exporter": "python",
      "pygments_lexer": "ipython3",
      "version": "3.8.10"
    },
    "colab": {
      "provenance": [],
      "include_colab_link": true
    }
  },
  "nbformat": 4,
  "nbformat_minor": 5
}